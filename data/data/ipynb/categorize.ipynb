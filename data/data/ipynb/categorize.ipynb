{
 "cells": [
  {
   "cell_type": "markdown",
   "id": "3c08d7ed-57c0-4281-82ad-154a10d7c716",
   "metadata": {},
   "source": [
    "### 패키지 설치 및 임포트"
   ]
  },
  {
   "cell_type": "code",
   "execution_count": 1,
   "id": "70b4fdcf-7bdb-4c29-949b-b4ba6a93edb2",
   "metadata": {},
   "outputs": [],
   "source": [
    "# pip install pandas\n",
    "# pip install matplotlib\n",
    "# pip install scikit-learn\n",
    "# pip install tensorflow\n",
    "# pip install nltk"
   ]
  },
  {
   "cell_type": "code",
   "execution_count": 3,
   "id": "5062d274-6ec6-4cb3-b0f3-d029aeed1ac3",
   "metadata": {},
   "outputs": [],
   "source": [
    "import urllib.request\n",
    "import numpy as np\n",
    "import pandas as pd\n",
    "import matplotlib.pyplot as plt\n",
    "import requests\n",
    "import re\n",
    "from sklearn.metrics.pairwise import cosine_similarity"
   ]
  },
  {
   "cell_type": "code",
   "execution_count": 4,
   "id": "00267413",
   "metadata": {},
   "outputs": [],
   "source": [
    "import nltk"
   ]
  },
  {
   "cell_type": "markdown",
   "id": "1e695789-089e-42c5-a42a-76b0ffc788bd",
   "metadata": {},
   "source": [
    "### 데이터 불러와서 df 변환"
   ]
  },
  {
   "cell_type": "code",
   "execution_count": 101,
   "id": "5096b4b9-8cb5-4250-a87f-41dd409bd16d",
   "metadata": {},
   "outputs": [
    {
     "name": "stdout",
     "output_type": "stream",
     "text": [
      "                                                 title  category  \\\n",
      "97                   3 very different border realities  politics   \n",
      "98   Biden directs US military to establish aid por...  politics   \n",
      "99   Jill Biden’s State of the Union guests include...  politics   \n",
      "100  Supreme Court is under pressure to step into t...  politics   \n",
      "101  Biden projects a vision of strength that’s bee...  politics   \n",
      "..                                                 ...       ...   \n",
      "300  No perfect brackets remaining in men’s March M...    sports   \n",
      "302  Sven-Göran Eriksson reflects on his terminal c...    sports   \n",
      "303  MLB launches investigation into allegations ar...    sports   \n",
      "304  Inter Milan player Francesco Acerbi leaves Ita...    sports   \n",
      "305  Tennis stars voice support for Aryna Sabalenka...    sports   \n",
      "\n",
      "                                                  text  \n",
      "97   Three completely different border realities we...  \n",
      "98   As President Joe Biden addressed Congress and ...  \n",
      "99   An Alabama woman seeking in vitro fertilizatio...  \n",
      "100  The Supreme Court is facing intense pressure t...  \n",
      "101  This version of Joe Biden could beat Donald Tr...  \n",
      "..                                                 ...  \n",
      "300  It’s taken just 31 games of the men’s March Ma...  \n",
      "302  Two months after revealing his terminal cancer...  \n",
      "303  Major League Baseball announced it has launche...  \n",
      "304  Inter Milan defender Francesco Acerbi has left...  \n",
      "305  Members of the tennis community are rallying a...  \n",
      "\n",
      "[702 rows x 3 columns]\n"
     ]
    }
   ],
   "source": [
    "def read_json_to_df(file_path):\n",
    "    try:\n",
    "        # JSON 파일을 DataFrame으로 읽어오기\n",
    "        df = pd.read_json(file_path)\n",
    "        return df\n",
    "    except FileNotFoundError:\n",
    "        print(\"File not found.\")\n",
    "        return None\n",
    "\n",
    "# JSON 파일 경로 설정\n",
    "json_file_path_1 = 'category/article(0308).json'\n",
    "json_file_path_2 = 'category/article(0319).json'\n",
    "json_file_path_3 = 'category/article(0324).json'\n",
    "\n",
    "# JSON 파일을 DataFrame으로 변환하여 출력\n",
    "df1 = read_json_to_df(json_file_path_1)\n",
    "df1.drop(df1[(df1['category'] == 'us') | (df1['category'] == 'world')].index, inplace=True)\n",
    "\n",
    "df2 = read_json_to_df(json_file_path_2)\n",
    "df3 = read_json_to_df(json_file_path_3)\n",
    "\n",
    "df = pd.concat([df1, df2, df3]).drop_duplicates(subset='title', keep='first')\n",
    "if df is not None:\n",
    "    print(df)"
   ]
  },
  {
   "cell_type": "markdown",
   "id": "da7242eb",
   "metadata": {},
   "source": [
    "## 데이터 증강 해보기"
   ]
  },
  {
   "cell_type": "code",
   "execution_count": null,
   "id": "1c72ff0c",
   "metadata": {},
   "outputs": [],
   "source": [
    "# pip install numpy requests nlpaug"
   ]
  },
  {
   "cell_type": "code",
   "execution_count": 48,
   "id": "10b39b36",
   "metadata": {},
   "outputs": [],
   "source": [
    "import nlpaug.augmenter.word as naw"
   ]
  },
  {
   "cell_type": "code",
   "execution_count": 138,
   "id": "84158fff",
   "metadata": {},
   "outputs": [
    {
     "name": "stdout",
     "output_type": "stream",
     "text": [
      "        category  count\n",
      "0       politics    138\n",
      "1       business    124\n",
      "2         sports    108\n",
      "3          style     98\n",
      "4  entertainment     86\n",
      "5         health     76\n",
      "6         travel     72\n"
     ]
    }
   ],
   "source": [
    "# 라벨 분포 분석\n",
    "categories = df['category'].value_counts().reset_index()\n",
    "categories.columns = ['category', 'count']\n",
    "\n",
    "# 결과 출력\n",
    "print(categories)\n"
   ]
  },
  {
   "cell_type": "code",
   "execution_count": 144,
   "id": "e95567df",
   "metadata": {},
   "outputs": [
    {
     "data": {
      "text/plain": [
       "['Three completely different border realities were displayed Thursday. ► There ’ s the Donald Trump reality, where President Joe Biden is to blame and a military force is needed to shut the border, control an invasion of “ murderers, ” round up the undocumented and expel them from the US. ► There ’ s the Biden reality, where Trump is to blame for killing a bipartisan compromise that would have given all president of the united states new powers to control the influx of migrants and streamline a broken asylum process. ► And there ’ s the lived reality of children and family facing hunger and hypothermia in open - air camps along the border. That grim picture was presented in court filings related to the camps near the US - Mexico border in California, which seek to force the federal government to better protect the well - being of people who are waiting to make asylum claims. Read CNN ’ s report, which includes images of a girl in a cast deposited at an open - air camp and a woman trapped in the slats of border fencing. The 3. 3 million case backlog of asylum claims is one of the main problems of the current immigration policy crisis, and the bipartisan bill would have sought to address it by adding workers at the border and beefing up the immigration court system. The fact that people can live in the US for years before their asylum claim is ultimately heard has been cited as a reason that so many continue to make the dangerous journey. Don ’ t expect to hear anything from the migrant perspective from Trump, who visited the border at Eagle Pass, Texas, on Thursday. Helium is promising a drastic deportation effort. “ I will carry out the large domestic deportation operation in American history, ” Trump promised in a video posted Wednesday to his social media platform. Making use of his trademark hyperbole, Trump referred to migrants as “ Joe Biden ’ s illegals and murderers. ” Planning is already underway in Trump ’ s sphere about how to go about such an effort. If, as seems likely, Congress didn ’ t green - light such an operation, CNN has reported Trump could attempt to redirect funds from the Pentagon, a tactic he tried during his first term in place to fund a border wall. Any such roundup and deportation effort, according to the CNN report from last year, “ would necessitate building large camps to house migrants waiting for deportation and tapping federal and local law enforcement to assist with large - scale arrests of undocumented immigrants across the country. ” There is a model in US history for such an effort. “ Operation Wetback, ” which made use of a derogatory term that sounds horrible in hindsight, was a military - style operation during the Dwight Eisenhower administration. Trump cited that ugly chapter in his 2016 run for president. It is remarkable how in the intervening years his rhetoric on immigration has not changed. CNN reported on the history of the 1950s deportation effort in 2016. It described how US agents “ plucked Mexican laborers from fields and ranches in targeted raids, bused them to detention centers along the border, and ultimately sent many of them deep into the interior of Mexico, some by airlift, others on cargo boats that typically hauled bananas. ” CNN ’ s Rosa Flores reported before Trump ’ s speech from Shelby Park in Eagle Pass. That ’ s the recreation area along the Rio Grande seized by the state national guard. They have kicked US Border Patrol out of that area and plan to build a military base there. State officials have lined the river in Eagle Pass with concertina wire, shipping containers and buoys to deter people from crossing. These efforts by the state to take over border security from the federal government are the subject of ongoing court disputes. Trump ’ s visit, CNN ’ s Stephen Collinson, Priscilla Alvarez and MJ Lee wrote ahead of the trip, “ will showcase his dark portrayal of a nation under siege from a torrent of what he claims are migrant criminals and invaders. ” “ This looks very militarized, ” Flores said, a contrast to the background chosen by the White House for Biden, who also visited the border on Thursday, 300 miles downriver in Brownsville. The Washington Post had an interesting comparison between the two areas and guessed at why Brownsville, which is much more used to larger volumes of migrant crossings, has been able to more easily absorb the influx. Speaking on Air Force One en route to Texas, Homeland Security Secretary Alejandro Mayorkas said Brownsville is a model of how the migrant crisis should be handled: not with a standoff between Texas and the federal government, but with cooperation. “ Brownsville demonstrates the impact of that partnership when everyone ’ s working together to address a shared challenge, ” he said. Biden has shifted in recent weeks, going on offense on the issue of immigration after Trump successfully pressured Republicans on Capitol Hill to kill the bipartisan border bill. US voters are on track to get a choice between Biden ’ s and Trump ’ s realities in Nov if, as expected, the two men clinch their respective major party nominations. The migrants fleeing to the US despite the risks must feel like they have run out of options.']"
      ]
     },
     "execution_count": 144,
     "metadata": {},
     "output_type": "execute_result"
    }
   ],
   "source": [
    "import numpy as np\n",
    "from nltk.corpus import wordnet\n",
    "import nlpaug.augmenter.word as naw\n",
    "\n",
    "# 데이터 증강\n",
    "def augment_data(text):\n",
    "    aug = naw.SynonymAug()\n",
    "    augmented_text = aug.augment(text, n=1)\n",
    "    return augmented_text[0]\n",
    "\n",
    "augment_data(df.iloc[0]['text'])"
   ]
  },
  {
   "cell_type": "code",
   "execution_count": 146,
   "id": "dce895a8",
   "metadata": {},
   "outputs": [
    {
     "data": {
      "text/plain": [
       "1263"
      ]
     },
     "execution_count": 146,
     "metadata": {},
     "output_type": "execute_result"
    }
   ],
   "source": [
    "# 카테고리 별 기사 개수 200개 혹은 2배로 늘리기\n",
    "def make_data(target_category):\n",
    "    filtered_df = df[df['category'] == target_category]\n",
    "\n",
    "    target_cnt = min(200 - len(filtered_df), len(filtered_df))\n",
    "    \n",
    "    target_row = filtered_df.sample(n=target_cnt)\n",
    "\n",
    "    for idx, ori in target_row.iterrows():\n",
    "        new_row = pd.DataFrame({'title': ori['title'], 'category': ori['category'], 'text': augment_data(ori['text'])})\n",
    "        filtered_df = pd.concat([filtered_df, new_row])\n",
    "    return filtered_df\n",
    "\n",
    "aug_df = pd.DataFrame()\n",
    "for cat in categories['category']:\n",
    "    aug_df = pd.concat([aug_df, make_data(cat)])\n",
    "\n",
    "len(aug_df)"
   ]
  },
  {
   "cell_type": "markdown",
   "id": "b81e4d95-68a5-477a-ba8a-d25fda977191",
   "metadata": {},
   "source": [
    "### 기사 텍스트 데이터 클리닝"
   ]
  },
  {
   "cell_type": "code",
   "execution_count": 147,
   "id": "d4954b88-2876-46d1-88b9-fc3096946817",
   "metadata": {},
   "outputs": [
    {
     "data": {
      "text/plain": [
       "97     three completely different border realities we...\n",
       "98     as president joe biden addressed congress and ...\n",
       "99     an alabama woman seeking in vitro fertilizatio...\n",
       "100    the supreme court is facing intense pressure t...\n",
       "101    this version of joe biden could beat donald tr...\n",
       "                             ...                        \n",
       "0      as they walked through the stunning palazzo an...\n",
       "0      when napoleon first encountered a camembert ch...\n",
       "0      long lines feeling bleary eyed and exhausted a...\n",
       "0      guillermo barrantes relationship with larry mo...\n",
       "0      ed pierson was flying from seattle to new jers...\n",
       "Name: cleaned_text, Length: 1263, dtype: object"
      ]
     },
     "execution_count": 147,
     "metadata": {},
     "output_type": "execute_result"
    }
   ],
   "source": [
    "from nltk.tokenize import RegexpTokenizer\n",
    "\n",
    "def make_lower_case(text):\n",
    "    return text.lower()\n",
    "\n",
    "# 구두문자 제거\n",
    "def remove_punctuation(text):\n",
    "    tokenizer = RegexpTokenizer(r'[a-zA-Z]+')\n",
    "    text = tokenizer.tokenize(text)\n",
    "    text = \" \".join(text)\n",
    "    return text\n",
    "\n",
    "aug_df['cleaned_text'] = aug_df.text.apply(make_lower_case)\n",
    "aug_df['cleaned_text'] = aug_df.cleaned_text.apply(remove_punctuation)\n",
    "\n",
    "aug_df['cleaned_text']"
   ]
  },
  {
   "cell_type": "markdown",
   "id": "4e9429a0-e98d-4ff6-b198-852189cd9a8e",
   "metadata": {},
   "source": [
    "## 모델 훈련"
   ]
  },
  {
   "cell_type": "code",
   "execution_count": 1,
   "id": "1a130719-f4e2-4214-ae1c-3268195dba89",
   "metadata": {},
   "outputs": [],
   "source": [
    "import tensorflow as tf\n",
    "from tensorflow.keras.preprocessing.text import Tokenizer\n",
    "from tensorflow.keras.preprocessing.sequence import pad_sequences\n",
    "from sklearn.model_selection import train_test_split"
   ]
  },
  {
   "cell_type": "markdown",
   "id": "caace0aa-348b-4d1d-b427-00c19ecb30cf",
   "metadata": {},
   "source": [
    "### 데이터셋 로드"
   ]
  },
  {
   "cell_type": "code",
   "execution_count": 148,
   "id": "8f343661-dc50-46f3-beaf-d342ea482e94",
   "metadata": {},
   "outputs": [],
   "source": [
    "X = aug_df['cleaned_text'].tolist()\n",
    "y = aug_df['category'].tolist()"
   ]
  },
  {
   "cell_type": "markdown",
   "id": "1fd05085-53a6-4878-85d2-402e1aaa784c",
   "metadata": {},
   "source": [
    "### 카테고리, 텍스트 전처리"
   ]
  },
  {
   "cell_type": "code",
   "execution_count": 149,
   "id": "51442962-ecc7-4a1b-b9fd-dceb87518380",
   "metadata": {},
   "outputs": [],
   "source": [
    "# 카테고리 정수 변환\n",
    "categories = aug_df['category'].unique()\n",
    "\n",
    "# 각 카테고리에 고유한 정수 인덱스를 지정하기 위한 매핑 딕셔너리 생성\n",
    "category_mapping = {category: index for index, category in enumerate(categories)}\n",
    "\n",
    "# 각 카테고리를 정수 인덱스로 변환\n",
    "y_encoded = np.array([category_mapping[category] for category in y])"
   ]
  },
  {
   "cell_type": "code",
   "execution_count": 158,
   "id": "b5047a25-3107-41f3-85ba-932e74310a5f",
   "metadata": {},
   "outputs": [],
   "source": [
    "# 텍스트 데이터 전처리\n",
    "# 딥러닝 위해 패딩 처리\n",
    "max_length = 4000\n",
    "tokenizer = Tokenizer()\n",
    "tokenizer.fit_on_texts(X)\n",
    "X_sequences = tokenizer.texts_to_sequences(X)\n",
    "X_padded = pad_sequences(X_sequences, maxlen=max_length, padding='post', truncating='post')\n",
    "\n",
    "# 데이터셋 분할\n",
    "X_train, X_test, y_train, y_test = train_test_split(X_padded, y_encoded, test_size=0.3, random_state=42)"
   ]
  },
  {
   "cell_type": "markdown",
   "id": "8a487c18-100a-42ec-b94c-889b87af0900",
   "metadata": {},
   "source": [
    "### 하이퍼파라미터 결정"
   ]
  },
  {
   "cell_type": "code",
   "execution_count": 180,
   "id": "8bd50524-60ee-4ec8-92d9-33d491202130",
   "metadata": {},
   "outputs": [
    {
     "name": "stdout",
     "output_type": "stream",
     "text": [
      "가장 긴 문장의 단어 수: 4836\n",
      "중간 길이의 문장의 단어 수: 702\n"
     ]
    }
   ],
   "source": [
    "def get_longest_word_count(sentences):\n",
    "    # 각 문장의 길이를 측정하여 리스트에 저장합니다.\n",
    "    sentence_lengths = [len(sentence.split()) for sentence in sentences]\n",
    "\n",
    "    # 최대 길이를 갖는 문장의 인덱스를 찾습니다.\n",
    "    max_length_index = sentence_lengths.index(max(sentence_lengths))\n",
    "\n",
    "    # 최대 길이를 갖는 문장을 가져옵니다.\n",
    "    longest_sentence = sentences[max_length_index]\n",
    "\n",
    "    # 가장 긴 문장의 단어 수를 카운트합니다.\n",
    "    longest_sentence_word_count = len((longest_sentence.split()))\n",
    "\n",
    "    print(\"가장 긴 문장의 단어 수:\", longest_sentence_word_count)\n",
    "\n",
    "def get_middlelong_word_count(sentences):\n",
    "\n",
    "    # 각 문장의 길이를 측정하여 리스트에 저장합니다.\n",
    "    sentence_lengths = [len(sentence.split()) for sentence in sentences]\n",
    "\n",
    "    # 문장 길이를 기준으로 정렬합니다.\n",
    "    sorted_lengths = sorted(sentence_lengths)\n",
    "\n",
    "    # 중간 길이의 문장의 인덱스를 계산합니다.\n",
    "    middle_index = len(sorted_lengths) // 2\n",
    "\n",
    "    # 중간 길이의 문장을 가져옵니다.\n",
    "    middle_sentence_length = sorted_lengths[middle_index]\n",
    "\n",
    "    # 중간 길이의 문장을 찾습니다.\n",
    "    for sentence in sentences:\n",
    "        if len(sentence.split()) == middle_sentence_length:\n",
    "            middle_sentence = sentence\n",
    "            break\n",
    "\n",
    "    # 중간 길이의 문장의 단어 수를 카운트합니다.\n",
    "    middle_sentence_word_count = len((middle_sentence.split()))\n",
    "\n",
    "    print(\"중간 길이의 문장의 단어 수:\", middle_sentence_word_count)\n",
    "\n",
    "\n",
    "get_longest_word_count(X)\n",
    "get_middlelong_word_count(X)\n",
    "\n"
   ]
  },
  {
   "cell_type": "code",
   "execution_count": 165,
   "id": "d1f3a896-83c9-4926-a331-3bf40a3056de",
   "metadata": {},
   "outputs": [
    {
     "name": "stdout",
     "output_type": "stream",
     "text": [
      "Epoch 1/80\n"
     ]
    },
    {
     "name": "stdout",
     "output_type": "stream",
     "text": [
      "\u001b[1m28/28\u001b[0m \u001b[32m━━━━━━━━━━━━━━━━━━━━\u001b[0m\u001b[37m\u001b[0m \u001b[1m1s\u001b[0m 37ms/step - accuracy: 0.1574 - loss: 1.9542 - val_accuracy: 0.1953 - val_loss: 1.9063\n",
      "Epoch 2/80\n",
      "\u001b[1m28/28\u001b[0m \u001b[32m━━━━━━━━━━━━━━━━━━━━\u001b[0m\u001b[37m\u001b[0m \u001b[1m1s\u001b[0m 33ms/step - accuracy: 0.1876 - loss: 1.9179 - val_accuracy: 0.1662 - val_loss: 1.9137\n",
      "Epoch 3/80\n",
      "\u001b[1m28/28\u001b[0m \u001b[32m━━━━━━━━━━━━━━━━━━━━\u001b[0m\u001b[37m\u001b[0m \u001b[1m1s\u001b[0m 33ms/step - accuracy: 0.2212 - loss: 1.8809 - val_accuracy: 0.2850 - val_loss: 1.8622\n",
      "Epoch 4/80\n",
      "\u001b[1m28/28\u001b[0m \u001b[32m━━━━━━━━━━━━━━━━━━━━\u001b[0m\u001b[37m\u001b[0m \u001b[1m1s\u001b[0m 33ms/step - accuracy: 0.2284 - loss: 1.8521 - val_accuracy: 0.2507 - val_loss: 1.8445\n",
      "Epoch 5/80\n",
      "\u001b[1m28/28\u001b[0m \u001b[32m━━━━━━━━━━━━━━━━━━━━\u001b[0m\u001b[37m\u001b[0m \u001b[1m1s\u001b[0m 33ms/step - accuracy: 0.2417 - loss: 1.8082 - val_accuracy: 0.3140 - val_loss: 1.8153\n",
      "Epoch 6/80\n",
      "\u001b[1m28/28\u001b[0m \u001b[32m━━━━━━━━━━━━━━━━━━━━\u001b[0m\u001b[37m\u001b[0m \u001b[1m1s\u001b[0m 34ms/step - accuracy: 0.3373 - loss: 1.7393 - val_accuracy: 0.2955 - val_loss: 1.8010\n",
      "Epoch 7/80\n",
      "\u001b[1m28/28\u001b[0m \u001b[32m━━━━━━━━━━━━━━━━━━━━\u001b[0m\u001b[37m\u001b[0m \u001b[1m1s\u001b[0m 33ms/step - accuracy: 0.3418 - loss: 1.7535 - val_accuracy: 0.2111 - val_loss: 1.7984\n",
      "Epoch 8/80\n",
      "\u001b[1m28/28\u001b[0m \u001b[32m━━━━━━━━━━━━━━━━━━━━\u001b[0m\u001b[37m\u001b[0m \u001b[1m1s\u001b[0m 34ms/step - accuracy: 0.3218 - loss: 1.7026 - val_accuracy: 0.3166 - val_loss: 1.7337\n",
      "Epoch 9/80\n",
      "\u001b[1m28/28\u001b[0m \u001b[32m━━━━━━━━━━━━━━━━━━━━\u001b[0m\u001b[37m\u001b[0m \u001b[1m1s\u001b[0m 33ms/step - accuracy: 0.3884 - loss: 1.6402 - val_accuracy: 0.3905 - val_loss: 1.6513\n",
      "Epoch 10/80\n",
      "\u001b[1m28/28\u001b[0m \u001b[32m━━━━━━━━━━━━━━━━━━━━\u001b[0m\u001b[37m\u001b[0m \u001b[1m1s\u001b[0m 33ms/step - accuracy: 0.3191 - loss: 1.6400 - val_accuracy: 0.3193 - val_loss: 1.6496\n",
      "Epoch 11/80\n",
      "\u001b[1m28/28\u001b[0m \u001b[32m━━━━━━━━━━━━━━━━━━━━\u001b[0m\u001b[37m\u001b[0m \u001b[1m1s\u001b[0m 33ms/step - accuracy: 0.4181 - loss: 1.5256 - val_accuracy: 0.3668 - val_loss: 1.5735\n",
      "Epoch 12/80\n",
      "\u001b[1m28/28\u001b[0m \u001b[32m━━━━━━━━━━━━━━━━━━━━\u001b[0m\u001b[37m\u001b[0m \u001b[1m1s\u001b[0m 33ms/step - accuracy: 0.4428 - loss: 1.4301 - val_accuracy: 0.4354 - val_loss: 1.5234\n",
      "Epoch 13/80\n",
      "\u001b[1m28/28\u001b[0m \u001b[32m━━━━━━━━━━━━━━━━━━━━\u001b[0m\u001b[37m\u001b[0m \u001b[1m1s\u001b[0m 33ms/step - accuracy: 0.4589 - loss: 1.4414 - val_accuracy: 0.4169 - val_loss: 1.5096\n",
      "Epoch 14/80\n",
      "\u001b[1m28/28\u001b[0m \u001b[32m━━━━━━━━━━━━━━━━━━━━\u001b[0m\u001b[37m\u001b[0m \u001b[1m1s\u001b[0m 34ms/step - accuracy: 0.4789 - loss: 1.3958 - val_accuracy: 0.3588 - val_loss: 1.5845\n",
      "Epoch 15/80\n",
      "\u001b[1m28/28\u001b[0m \u001b[32m━━━━━━━━━━━━━━━━━━━━\u001b[0m\u001b[37m\u001b[0m \u001b[1m1s\u001b[0m 33ms/step - accuracy: 0.5210 - loss: 1.3185 - val_accuracy: 0.4248 - val_loss: 1.4360\n",
      "Epoch 16/80\n",
      "\u001b[1m28/28\u001b[0m \u001b[32m━━━━━━━━━━━━━━━━━━━━\u001b[0m\u001b[37m\u001b[0m \u001b[1m1s\u001b[0m 33ms/step - accuracy: 0.4998 - loss: 1.2810 - val_accuracy: 0.4934 - val_loss: 1.3792\n",
      "Epoch 17/80\n",
      "\u001b[1m28/28\u001b[0m \u001b[32m━━━━━━━━━━━━━━━━━━━━\u001b[0m\u001b[37m\u001b[0m \u001b[1m1s\u001b[0m 34ms/step - accuracy: 0.5903 - loss: 1.2105 - val_accuracy: 0.5251 - val_loss: 1.3088\n",
      "Epoch 18/80\n",
      "\u001b[1m28/28\u001b[0m \u001b[32m━━━━━━━━━━━━━━━━━━━━\u001b[0m\u001b[37m\u001b[0m \u001b[1m1s\u001b[0m 33ms/step - accuracy: 0.5590 - loss: 1.1552 - val_accuracy: 0.4565 - val_loss: 1.3103\n",
      "Epoch 19/80\n",
      "\u001b[1m28/28\u001b[0m \u001b[32m━━━━━━━━━━━━━━━━━━━━\u001b[0m\u001b[37m\u001b[0m \u001b[1m1s\u001b[0m 35ms/step - accuracy: 0.6188 - loss: 1.0831 - val_accuracy: 0.5831 - val_loss: 1.1844\n",
      "Epoch 20/80\n",
      "\u001b[1m28/28\u001b[0m \u001b[32m━━━━━━━━━━━━━━━━━━━━\u001b[0m\u001b[37m\u001b[0m \u001b[1m1s\u001b[0m 34ms/step - accuracy: 0.6140 - loss: 1.0626 - val_accuracy: 0.5989 - val_loss: 1.1449\n",
      "Epoch 21/80\n",
      "\u001b[1m28/28\u001b[0m \u001b[32m━━━━━━━━━━━━━━━━━━━━\u001b[0m\u001b[37m\u001b[0m \u001b[1m1s\u001b[0m 33ms/step - accuracy: 0.7231 - loss: 0.9244 - val_accuracy: 0.6517 - val_loss: 1.0986\n",
      "Epoch 22/80\n",
      "\u001b[1m28/28\u001b[0m \u001b[32m━━━━━━━━━━━━━━━━━━━━\u001b[0m\u001b[37m\u001b[0m \u001b[1m1s\u001b[0m 34ms/step - accuracy: 0.6815 - loss: 0.9079 - val_accuracy: 0.6412 - val_loss: 1.0726\n",
      "Epoch 23/80\n",
      "\u001b[1m28/28\u001b[0m \u001b[32m━━━━━━━━━━━━━━━━━━━━\u001b[0m\u001b[37m\u001b[0m \u001b[1m1s\u001b[0m 33ms/step - accuracy: 0.6835 - loss: 0.9149 - val_accuracy: 0.6174 - val_loss: 1.1141\n",
      "Epoch 24/80\n",
      "\u001b[1m28/28\u001b[0m \u001b[32m━━━━━━━━━━━━━━━━━━━━\u001b[0m\u001b[37m\u001b[0m \u001b[1m1s\u001b[0m 34ms/step - accuracy: 0.7157 - loss: 0.8378 - val_accuracy: 0.6121 - val_loss: 1.1249\n",
      "Epoch 25/80\n",
      "\u001b[1m28/28\u001b[0m \u001b[32m━━━━━━━━━━━━━━━━━━━━\u001b[0m\u001b[37m\u001b[0m \u001b[1m1s\u001b[0m 33ms/step - accuracy: 0.6508 - loss: 0.9424 - val_accuracy: 0.4934 - val_loss: 1.3080\n",
      "Epoch 26/80\n",
      "\u001b[1m28/28\u001b[0m \u001b[32m━━━━━━━━━━━━━━━━━━━━\u001b[0m\u001b[37m\u001b[0m \u001b[1m1s\u001b[0m 34ms/step - accuracy: 0.6398 - loss: 0.9196 - val_accuracy: 0.6306 - val_loss: 1.0237\n",
      "Epoch 27/80\n",
      "\u001b[1m28/28\u001b[0m \u001b[32m━━━━━━━━━━━━━━━━━━━━\u001b[0m\u001b[37m\u001b[0m \u001b[1m1s\u001b[0m 33ms/step - accuracy: 0.7274 - loss: 0.7359 - val_accuracy: 0.4723 - val_loss: 1.2706\n",
      "Epoch 28/80\n",
      "\u001b[1m28/28\u001b[0m \u001b[32m━━━━━━━━━━━━━━━━━━━━\u001b[0m\u001b[37m\u001b[0m \u001b[1m1s\u001b[0m 34ms/step - accuracy: 0.7555 - loss: 0.7337 - val_accuracy: 0.6781 - val_loss: 0.9702\n",
      "Epoch 29/80\n",
      "\u001b[1m28/28\u001b[0m \u001b[32m━━━━━━━━━━━━━━━━━━━━\u001b[0m\u001b[37m\u001b[0m \u001b[1m1s\u001b[0m 33ms/step - accuracy: 0.7677 - loss: 0.7097 - val_accuracy: 0.4881 - val_loss: 1.4008\n",
      "Epoch 30/80\n",
      "\u001b[1m28/28\u001b[0m \u001b[32m━━━━━━━━━━━━━━━━━━━━\u001b[0m\u001b[37m\u001b[0m \u001b[1m1s\u001b[0m 35ms/step - accuracy: 0.6906 - loss: 0.8168 - val_accuracy: 0.6834 - val_loss: 0.9475\n",
      "Epoch 31/80\n",
      "\u001b[1m28/28\u001b[0m \u001b[32m━━━━━━━━━━━━━━━━━━━━\u001b[0m\u001b[37m\u001b[0m \u001b[1m1s\u001b[0m 34ms/step - accuracy: 0.7701 - loss: 0.6496 - val_accuracy: 0.5910 - val_loss: 1.0758\n",
      "Epoch 32/80\n",
      "\u001b[1m28/28\u001b[0m \u001b[32m━━━━━━━━━━━━━━━━━━━━\u001b[0m\u001b[37m\u001b[0m \u001b[1m1s\u001b[0m 34ms/step - accuracy: 0.7879 - loss: 0.6138 - val_accuracy: 0.6491 - val_loss: 0.8943\n",
      "Epoch 33/80\n",
      "\u001b[1m28/28\u001b[0m \u001b[32m━━━━━━━━━━━━━━━━━━━━\u001b[0m\u001b[37m\u001b[0m \u001b[1m1s\u001b[0m 34ms/step - accuracy: 0.8211 - loss: 0.5361 - val_accuracy: 0.6702 - val_loss: 0.8798\n",
      "Epoch 34/80\n",
      "\u001b[1m28/28\u001b[0m \u001b[32m━━━━━━━━━━━━━━━━━━━━\u001b[0m\u001b[37m\u001b[0m \u001b[1m1s\u001b[0m 33ms/step - accuracy: 0.7799 - loss: 0.6191 - val_accuracy: 0.7361 - val_loss: 0.7884\n",
      "Epoch 35/80\n",
      "\u001b[1m28/28\u001b[0m \u001b[32m━━━━━━━━━━━━━━━━━━━━\u001b[0m\u001b[37m\u001b[0m \u001b[1m1s\u001b[0m 33ms/step - accuracy: 0.8576 - loss: 0.5365 - val_accuracy: 0.7414 - val_loss: 0.7807\n",
      "Epoch 36/80\n",
      "\u001b[1m28/28\u001b[0m \u001b[32m━━━━━━━━━━━━━━━━━━━━\u001b[0m\u001b[37m\u001b[0m \u001b[1m1s\u001b[0m 33ms/step - accuracy: 0.8216 - loss: 0.5238 - val_accuracy: 0.7731 - val_loss: 0.7179\n",
      "Epoch 37/80\n",
      "\u001b[1m28/28\u001b[0m \u001b[32m━━━━━━━━━━━━━━━━━━━━\u001b[0m\u001b[37m\u001b[0m \u001b[1m1s\u001b[0m 34ms/step - accuracy: 0.8243 - loss: 0.5108 - val_accuracy: 0.7124 - val_loss: 0.8006\n",
      "Epoch 38/80\n",
      "\u001b[1m28/28\u001b[0m \u001b[32m━━━━━━━━━━━━━━━━━━━━\u001b[0m\u001b[37m\u001b[0m \u001b[1m1s\u001b[0m 33ms/step - accuracy: 0.7991 - loss: 0.5544 - val_accuracy: 0.7256 - val_loss: 0.7674\n",
      "Epoch 39/80\n",
      "\u001b[1m28/28\u001b[0m \u001b[32m━━━━━━━━━━━━━━━━━━━━\u001b[0m\u001b[37m\u001b[0m \u001b[1m1s\u001b[0m 35ms/step - accuracy: 0.8558 - loss: 0.4522 - val_accuracy: 0.7124 - val_loss: 0.7942\n",
      "Epoch 40/80\n",
      "\u001b[1m28/28\u001b[0m \u001b[32m━━━━━━━━━━━━━━━━━━━━\u001b[0m\u001b[37m\u001b[0m \u001b[1m1s\u001b[0m 33ms/step - accuracy: 0.8412 - loss: 0.4378 - val_accuracy: 0.6570 - val_loss: 0.9702\n",
      "Epoch 41/80\n",
      "\u001b[1m28/28\u001b[0m \u001b[32m━━━━━━━━━━━━━━━━━━━━\u001b[0m\u001b[37m\u001b[0m \u001b[1m1s\u001b[0m 33ms/step - accuracy: 0.8142 - loss: 0.5133 - val_accuracy: 0.6280 - val_loss: 1.0260\n",
      "Epoch 42/80\n",
      "\u001b[1m28/28\u001b[0m \u001b[32m━━━━━━━━━━━━━━━━━━━━\u001b[0m\u001b[37m\u001b[0m \u001b[1m1s\u001b[0m 34ms/step - accuracy: 0.8435 - loss: 0.5191 - val_accuracy: 0.7836 - val_loss: 0.6258\n",
      "Epoch 43/80\n",
      "\u001b[1m28/28\u001b[0m \u001b[32m━━━━━━━━━━━━━━━━━━━━\u001b[0m\u001b[37m\u001b[0m \u001b[1m1s\u001b[0m 33ms/step - accuracy: 0.7923 - loss: 0.5413 - val_accuracy: 0.7071 - val_loss: 0.8499\n",
      "Epoch 44/80\n",
      "\u001b[1m28/28\u001b[0m \u001b[32m━━━━━━━━━━━━━━━━━━━━\u001b[0m\u001b[37m\u001b[0m \u001b[1m1s\u001b[0m 34ms/step - accuracy: 0.8206 - loss: 0.4994 - val_accuracy: 0.7361 - val_loss: 0.7092\n",
      "Epoch 45/80\n",
      "\u001b[1m28/28\u001b[0m \u001b[32m━━━━━━━━━━━━━━━━━━━━\u001b[0m\u001b[37m\u001b[0m \u001b[1m1s\u001b[0m 33ms/step - accuracy: 0.8118 - loss: 0.5007 - val_accuracy: 0.7599 - val_loss: 0.6805\n",
      "Epoch 46/80\n",
      "\u001b[1m28/28\u001b[0m \u001b[32m━━━━━━━━━━━━━━━━━━━━\u001b[0m\u001b[37m\u001b[0m \u001b[1m1s\u001b[0m 35ms/step - accuracy: 0.8655 - loss: 0.3774 - val_accuracy: 0.7441 - val_loss: 0.7268\n",
      "Epoch 47/80\n",
      "\u001b[1m28/28\u001b[0m \u001b[32m━━━━━━━━━━━━━━━━━━━━\u001b[0m\u001b[37m\u001b[0m \u001b[1m1s\u001b[0m 34ms/step - accuracy: 0.8433 - loss: 0.4755 - val_accuracy: 0.7889 - val_loss: 0.6026\n",
      "Epoch 48/80\n",
      "\u001b[1m28/28\u001b[0m \u001b[32m━━━━━━━━━━━━━━━━━━━━\u001b[0m\u001b[37m\u001b[0m \u001b[1m1s\u001b[0m 34ms/step - accuracy: 0.8887 - loss: 0.3584 - val_accuracy: 0.7071 - val_loss: 0.8838\n",
      "Epoch 49/80\n",
      "\u001b[1m28/28\u001b[0m \u001b[32m━━━━━━━━━━━━━━━━━━━━\u001b[0m\u001b[37m\u001b[0m \u001b[1m1s\u001b[0m 34ms/step - accuracy: 0.8974 - loss: 0.3324 - val_accuracy: 0.7124 - val_loss: 0.7976\n",
      "Epoch 50/80\n",
      "\u001b[1m28/28\u001b[0m \u001b[32m━━━━━━━━━━━━━━━━━━━━\u001b[0m\u001b[37m\u001b[0m \u001b[1m1s\u001b[0m 33ms/step - accuracy: 0.8932 - loss: 0.3563 - val_accuracy: 0.7810 - val_loss: 0.6394\n",
      "Epoch 51/80\n",
      "\u001b[1m28/28\u001b[0m \u001b[32m━━━━━━━━━━━━━━━━━━━━\u001b[0m\u001b[37m\u001b[0m \u001b[1m1s\u001b[0m 34ms/step - accuracy: 0.9139 - loss: 0.3017 - val_accuracy: 0.7968 - val_loss: 0.5738\n",
      "Epoch 52/80\n",
      "\u001b[1m28/28\u001b[0m \u001b[32m━━━━━━━━━━━━━━━━━━━━\u001b[0m\u001b[37m\u001b[0m \u001b[1m1s\u001b[0m 33ms/step - accuracy: 0.9213 - loss: 0.2676 - val_accuracy: 0.8285 - val_loss: 0.5414\n",
      "Epoch 53/80\n",
      "\u001b[1m28/28\u001b[0m \u001b[32m━━━━━━━━━━━━━━━━━━━━\u001b[0m\u001b[37m\u001b[0m \u001b[1m1s\u001b[0m 33ms/step - accuracy: 0.8739 - loss: 0.3310 - val_accuracy: 0.8127 - val_loss: 0.6111\n",
      "Epoch 54/80\n",
      "\u001b[1m28/28\u001b[0m \u001b[32m━━━━━━━━━━━━━━━━━━━━\u001b[0m\u001b[37m\u001b[0m \u001b[1m1s\u001b[0m 35ms/step - accuracy: 0.9119 - loss: 0.2651 - val_accuracy: 0.5858 - val_loss: 1.3887\n",
      "Epoch 55/80\n",
      "\u001b[1m28/28\u001b[0m \u001b[32m━━━━━━━━━━━━━━━━━━━━\u001b[0m\u001b[37m\u001b[0m \u001b[1m1s\u001b[0m 34ms/step - accuracy: 0.8145 - loss: 0.5215 - val_accuracy: 0.6491 - val_loss: 1.0737\n",
      "Epoch 56/80\n",
      "\u001b[1m28/28\u001b[0m \u001b[32m━━━━━━━━━━━━━━━━━━━━\u001b[0m\u001b[37m\u001b[0m \u001b[1m1s\u001b[0m 34ms/step - accuracy: 0.8328 - loss: 0.3923 - val_accuracy: 0.8311 - val_loss: 0.6135\n",
      "Epoch 57/80\n",
      "\u001b[1m28/28\u001b[0m \u001b[32m━━━━━━━━━━━━━━━━━━━━\u001b[0m\u001b[37m\u001b[0m \u001b[1m1s\u001b[0m 34ms/step - accuracy: 0.9077 - loss: 0.2834 - val_accuracy: 0.7625 - val_loss: 0.6736\n",
      "Epoch 58/80\n",
      "\u001b[1m28/28\u001b[0m \u001b[32m━━━━━━━━━━━━━━━━━━━━\u001b[0m\u001b[37m\u001b[0m \u001b[1m1s\u001b[0m 34ms/step - accuracy: 0.8935 - loss: 0.3240 - val_accuracy: 0.6332 - val_loss: 1.1100\n",
      "Epoch 59/80\n",
      "\u001b[1m28/28\u001b[0m \u001b[32m━━━━━━━━━━━━━━━━━━━━\u001b[0m\u001b[37m\u001b[0m \u001b[1m1s\u001b[0m 34ms/step - accuracy: 0.8799 - loss: 0.3754 - val_accuracy: 0.7441 - val_loss: 0.7865\n",
      "Epoch 60/80\n",
      "\u001b[1m28/28\u001b[0m \u001b[32m━━━━━━━━━━━━━━━━━━━━\u001b[0m\u001b[37m\u001b[0m \u001b[1m1s\u001b[0m 34ms/step - accuracy: 0.9242 - loss: 0.2652 - val_accuracy: 0.6464 - val_loss: 1.1710\n",
      "Epoch 61/80\n",
      "\u001b[1m28/28\u001b[0m \u001b[32m━━━━━━━━━━━━━━━━━━━━\u001b[0m\u001b[37m\u001b[0m \u001b[1m1s\u001b[0m 34ms/step - accuracy: 0.8926 - loss: 0.3257 - val_accuracy: 0.7757 - val_loss: 0.6241\n",
      "Epoch 62/80\n",
      "\u001b[1m28/28\u001b[0m \u001b[32m━━━━━━━━━━━━━━━━━━━━\u001b[0m\u001b[37m\u001b[0m \u001b[1m1s\u001b[0m 35ms/step - accuracy: 0.8771 - loss: 0.3581 - val_accuracy: 0.7573 - val_loss: 0.6854\n",
      "Epoch 63/80\n",
      "\u001b[1m28/28\u001b[0m \u001b[32m━━━━━━━━━━━━━━━━━━━━\u001b[0m\u001b[37m\u001b[0m \u001b[1m1s\u001b[0m 34ms/step - accuracy: 0.9408 - loss: 0.2213 - val_accuracy: 0.8232 - val_loss: 0.6200\n",
      "Epoch 64/80\n",
      "\u001b[1m28/28\u001b[0m \u001b[32m━━━━━━━━━━━━━━━━━━━━\u001b[0m\u001b[37m\u001b[0m \u001b[1m1s\u001b[0m 33ms/step - accuracy: 0.9579 - loss: 0.1628 - val_accuracy: 0.8364 - val_loss: 0.4647\n",
      "Epoch 65/80\n",
      "\u001b[1m28/28\u001b[0m \u001b[32m━━━━━━━━━━━━━━━━━━━━\u001b[0m\u001b[37m\u001b[0m \u001b[1m1s\u001b[0m 34ms/step - accuracy: 0.9422 - loss: 0.1855 - val_accuracy: 0.8549 - val_loss: 0.4327\n",
      "Epoch 66/80\n",
      "\u001b[1m28/28\u001b[0m \u001b[32m━━━━━━━━━━━━━━━━━━━━\u001b[0m\u001b[37m\u001b[0m \u001b[1m1s\u001b[0m 33ms/step - accuracy: 0.9577 - loss: 0.1744 - val_accuracy: 0.7889 - val_loss: 0.7692\n",
      "Epoch 67/80\n",
      "\u001b[1m28/28\u001b[0m \u001b[32m━━━━━━━━━━━━━━━━━━━━\u001b[0m\u001b[37m\u001b[0m \u001b[1m1s\u001b[0m 33ms/step - accuracy: 0.8972 - loss: 0.3094 - val_accuracy: 0.7942 - val_loss: 0.6340\n",
      "Epoch 68/80\n",
      "\u001b[1m28/28\u001b[0m \u001b[32m━━━━━━━━━━━━━━━━━━━━\u001b[0m\u001b[37m\u001b[0m \u001b[1m1s\u001b[0m 34ms/step - accuracy: 0.9349 - loss: 0.2029 - val_accuracy: 0.8681 - val_loss: 0.4234\n",
      "Epoch 69/80\n",
      "\u001b[1m28/28\u001b[0m \u001b[32m━━━━━━━━━━━━━━━━━━━━\u001b[0m\u001b[37m\u001b[0m \u001b[1m1s\u001b[0m 37ms/step - accuracy: 0.9717 - loss: 0.1326 - val_accuracy: 0.8522 - val_loss: 0.4438\n",
      "Epoch 70/80\n",
      "\u001b[1m28/28\u001b[0m \u001b[32m━━━━━━━━━━━━━━━━━━━━\u001b[0m\u001b[37m\u001b[0m \u001b[1m1s\u001b[0m 34ms/step - accuracy: 0.9569 - loss: 0.1639 - val_accuracy: 0.8285 - val_loss: 0.5115\n",
      "Epoch 71/80\n",
      "\u001b[1m28/28\u001b[0m \u001b[32m━━━━━━━━━━━━━━━━━━━━\u001b[0m\u001b[37m\u001b[0m \u001b[1m1s\u001b[0m 34ms/step - accuracy: 0.9156 - loss: 0.2380 - val_accuracy: 0.7573 - val_loss: 0.8150\n",
      "Epoch 72/80\n",
      "\u001b[1m28/28\u001b[0m \u001b[32m━━━━━━━━━━━━━━━━━━━━\u001b[0m\u001b[37m\u001b[0m \u001b[1m1s\u001b[0m 34ms/step - accuracy: 0.9324 - loss: 0.2155 - val_accuracy: 0.6913 - val_loss: 0.9669\n",
      "Epoch 73/80\n",
      "\u001b[1m28/28\u001b[0m \u001b[32m━━━━━━━━━━━━━━━━━━━━\u001b[0m\u001b[37m\u001b[0m \u001b[1m1s\u001b[0m 33ms/step - accuracy: 0.8207 - loss: 0.4952 - val_accuracy: 0.8047 - val_loss: 0.5536\n",
      "Epoch 74/80\n",
      "\u001b[1m28/28\u001b[0m \u001b[32m━━━━━━━━━━━━━━━━━━━━\u001b[0m\u001b[37m\u001b[0m \u001b[1m1s\u001b[0m 34ms/step - accuracy: 0.9540 - loss: 0.1717 - val_accuracy: 0.6570 - val_loss: 1.4844\n",
      "Epoch 75/80\n",
      "\u001b[1m28/28\u001b[0m \u001b[32m━━━━━━━━━━━━━━━━━━━━\u001b[0m\u001b[37m\u001b[0m \u001b[1m1s\u001b[0m 34ms/step - accuracy: 0.8220 - loss: 0.5651 - val_accuracy: 0.7599 - val_loss: 0.8105\n",
      "Epoch 76/80\n",
      "\u001b[1m28/28\u001b[0m \u001b[32m━━━━━━━━━━━━━━━━━━━━\u001b[0m\u001b[37m\u001b[0m \u001b[1m1s\u001b[0m 35ms/step - accuracy: 0.9349 - loss: 0.2300 - val_accuracy: 0.7836 - val_loss: 0.5503\n",
      "Epoch 77/80\n",
      "\u001b[1m28/28\u001b[0m \u001b[32m━━━━━━━━━━━━━━━━━━━━\u001b[0m\u001b[37m\u001b[0m \u001b[1m1s\u001b[0m 34ms/step - accuracy: 0.9221 - loss: 0.2159 - val_accuracy: 0.8391 - val_loss: 0.5069\n",
      "Epoch 78/80\n",
      "\u001b[1m28/28\u001b[0m \u001b[32m━━━━━━━━━━━━━━━━━━━━\u001b[0m\u001b[37m\u001b[0m \u001b[1m1s\u001b[0m 34ms/step - accuracy: 0.9616 - loss: 0.1336 - val_accuracy: 0.8391 - val_loss: 0.4865\n",
      "Epoch 79/80\n",
      "\u001b[1m28/28\u001b[0m \u001b[32m━━━━━━━━━━━━━━━━━━━━\u001b[0m\u001b[37m\u001b[0m \u001b[1m1s\u001b[0m 34ms/step - accuracy: 0.9784 - loss: 0.1032 - val_accuracy: 0.8443 - val_loss: 0.5004\n",
      "Epoch 80/80\n",
      "\u001b[1m28/28\u001b[0m \u001b[32m━━━━━━━━━━━━━━━━━━━━\u001b[0m\u001b[37m\u001b[0m \u001b[1m1s\u001b[0m 33ms/step - accuracy: 0.9904 - loss: 0.0844 - val_accuracy: 0.8654 - val_loss: 0.4599\n"
     ]
    }
   ],
   "source": [
    "# 모델 구성\n",
    "vocab_size = 3000\n",
    "embedding_dim = 300\n",
    "\n",
    "model = tf.keras.Sequential([\n",
    "    tf.keras.layers.Embedding(input_dim=vocab_size, output_dim=embedding_dim),\n",
    "    tf.keras.layers.GlobalAveragePooling1D(),\n",
    "    tf.keras.layers.Dense(64, activation='relu'),\n",
    "    tf.keras.layers.Dense(7, activation='softmax')\n",
    "])\n",
    "\n",
    "# 모델 컴파일\n",
    "# model.compile(loss='categorical_crossentropy', optimizer='adam', metrics=['accuracy'])\n",
    "model.compile(optimizer='adam', loss='sparse_categorical_crossentropy', metrics=['accuracy'])\n",
    "\n",
    "# 모델 훈련\n",
    "history = model.fit(X_train, y_train, epochs=80, batch_size=32, validation_data=(X_test, y_test))"
   ]
  },
  {
   "cell_type": "code",
   "execution_count": 166,
   "id": "d48e99d3-f130-4701-8802-dfbf2acbfe8c",
   "metadata": {},
   "outputs": [
    {
     "name": "stdout",
     "output_type": "stream",
     "text": [
      "\u001b[1m12/12\u001b[0m \u001b[32m━━━━━━━━━━━━━━━━━━━━\u001b[0m\u001b[37m\u001b[0m \u001b[1m0s\u001b[0m 10ms/step - accuracy: 0.8603 - loss: 0.4244\n",
      "Test Accuracy: 0.8654353618621826\n"
     ]
    }
   ],
   "source": [
    "# 모델 평가\n",
    "loss, accuracy = model.evaluate(X_test, y_test)\n",
    "print(\"Test Accuracy:\", accuracy)"
   ]
  },
  {
   "cell_type": "code",
   "execution_count": 167,
   "id": "4582f85e",
   "metadata": {},
   "outputs": [
    {
     "data": {
      "image/png": "[encoded data removed]",
      "text/plain": [
       "<Figure size 640x480 with 1 Axes>"
      ]
     },
     "metadata": {},
     "output_type": "display_data"
    },
    {
     "data": {
      "image/png": "[encoded data removed]",
      "text/plain": [
       "<Figure size 640x480 with 1 Axes>"
      ]
     },
     "metadata": {},
     "output_type": "display_data"
    }
   ],
   "source": [
    "# 정확도 그래프\n",
    "plt.plot(history.history['accuracy'], label='Training Accuracy')\n",
    "plt.plot(history.history['val_accuracy'], label='Validation Accuracy')\n",
    "plt.xlabel('Epoch')\n",
    "plt.ylabel('Accuracy')\n",
    "plt.legend(loc='lower right')\n",
    "plt.show()\n",
    "\n",
    "# 손실 그래프\n",
    "plt.plot(history.history['loss'], label='Training Loss')\n",
    "plt.plot(history.history['val_loss'], label='Validation Loss')\n",
    "plt.xlabel('Epoch')\n",
    "plt.ylabel('Loss')\n",
    "plt.legend(loc='upper right')\n",
    "plt.show()"
   ]
  },
  {
   "cell_type": "markdown",
   "id": "1ba10970-69d4-4ed5-95b9-ad56062af767",
   "metadata": {},
   "source": [
    "## 테스트"
   ]
  },
  {
   "cell_type": "markdown",
   "id": "9212ac34",
   "metadata": {},
   "source": [
    "### 데이터 가져오기"
   ]
  },
  {
   "cell_type": "code",
   "execution_count": 204,
   "id": "a3c81db9-1526-4056-b640-97648493b5ce",
   "metadata": {},
   "outputs": [
    {
     "name": "stdout",
     "output_type": "stream",
     "text": [
      "                                        _id     video_id  \\\n",
      "0      {'$oid': '65f718aa887cecf903ef13f0'}  jsxI0QjxJs8   \n",
      "1      {'$oid': '65f718aa887cecf903ef13f2'}  rGMqBoF3hkU   \n",
      "2      {'$oid': '65f718aa887cecf903ef13f3'}  2keAv3W3edw   \n",
      "3      {'$oid': '65f718aa887cecf903ef13f4'}  dyXBfjwu4fA   \n",
      "4      {'$oid': '65f718aa887cecf903ef13f5'}  7ozPfsLRxZw   \n",
      "...                                     ...          ...   \n",
      "35387  {'$oid': '65f73436887cecf903f0db5d'}  HGQct9tFpm0   \n",
      "35388  {'$oid': '65f73436887cecf903f0db60'}  nLtnU20ZVO0   \n",
      "35389  {'$oid': '65f73436887cecf903f0db61'}  vmxgRP7OZf8   \n",
      "35390  {'$oid': '65f73438887cecf903f0db71'}  34-cY8wIrcw   \n",
      "35391  {'$oid': '65f739d3887cecf903f12dcb'}  -aWdR1z1HfI   \n",
      "\n",
      "                                             full_script  \\\n",
      "0      Here with me now is Israeli Prime Minister Ben...   \n",
      "1      After severe storms and tornadoes hit multiple...   \n",
      "2      As you know, it's been a tough week for the pr...   \n",
      "3      Are looking at images seen earlier in Trenton,...   \n",
      "4      'M  JOHN BETTER, BUT POUNDS HAD  THIS IS CNN  ...   \n",
      "...                                                  ...   \n",
      "35387  CALLS FOR BLOOD ARE GETTING  LOUDER AND LOUDER...   \n",
      "35388  OF YOU SOME INFORMATION ABOUT  WHAT WE'RE DOIN...   \n",
      "35389  MOSTLY A CLANDESTINE PRESENCE  OPERATED BY THE...   \n",
      "35390  AND HELPING THEIR DREAMS TO COME TRUE. AND WE ...   \n",
      "35391  bjbjLULU Joining us by telephone tonight is\\np...   \n",
      "\n",
      "                                             senteceList  category_name  \\\n",
      "0      [{'start': 0, 'text': 'Here with me now is isr...       Politics   \n",
      "1      [{'start': 0.066, 'text': 'After severe storms...       Politics   \n",
      "2      [{'start': 0.133, 'text': 'As you know, it's b...       Politics   \n",
      "3      [{'start': 0, 'text': 'Are looking at images s...       Politics   \n",
      "4      [{'start': 0.066, 'text': ''m john better, but...       Politics   \n",
      "...                                                  ...            ...   \n",
      "35387  [{'start': 2.836, 'text': 'Calls for blood are...       Politics   \n",
      "35388  [{'start': 2.669, 'text': 'Of you some informa...       Politics   \n",
      "35389  [{'start': 1.568, 'text': 'Mostly a clandestin...       Politics   \n",
      "35390  [{'start': 5.838, 'text': 'And helping their d...       Politics   \n",
      "35391  [{'start': 0.149, 'text': 'Bjbjlulu joining us...  Entertainment   \n",
      "\n",
      "       video_date                                         video_name  \\\n",
      "0      2024-03-17  Netanyahu reacts to Schumer calling him an 'ob...   \n",
      "1      2024-03-16  Man trapped with kids inside Walmart during to...   \n",
      "2      2024-03-16  Former Justice Department official on Trump le...   \n",
      "3      2024-03-16  Video shows New Jersey home where officials sa...   \n",
      "4      2024-03-16  'Katespiracies' rise following doctored photo ...   \n",
      "...           ...                                                ...   \n",
      "35387  2013-05-16                  Boehner outraged over IRS scandal   \n",
      "35388  2013-05-16                     Obama on IRS: It's inexcusable   \n",
      "35389  2013-05-16             CIA role in Benghazi was underreported   \n",
      "35390  2013-05-15  Dr. Monica Morrow on breast cancer treatment o...   \n",
      "35391  2010-12-27                 2010: Pilot reveals security flaws   \n",
      "\n",
      "                                         video_thumbnail  \n",
      "0      https://i.ytimg.com/vi/jsxI0QjxJs8/hqdefault.j...  \n",
      "1      https://i.ytimg.com/vi/rGMqBoF3hkU/hqdefault.j...  \n",
      "2      https://i.ytimg.com/vi/2keAv3W3edw/hqdefault.j...  \n",
      "3      https://i.ytimg.com/vi/dyXBfjwu4fA/hqdefault.j...  \n",
      "4      https://i.ytimg.com/vi/7ozPfsLRxZw/hqdefault.j...  \n",
      "...                                                  ...  \n",
      "35387  https://i.ytimg.com/vi/HGQct9tFpm0/hqdefault.j...  \n",
      "35388  https://i.ytimg.com/vi/nLtnU20ZVO0/hqdefault.j...  \n",
      "35389  https://i.ytimg.com/vi/vmxgRP7OZf8/hqdefault.j...  \n",
      "35390  https://i.ytimg.com/vi/34-cY8wIrcw/hqdefault.j...  \n",
      "35391  https://i.ytimg.com/vi/-aWdR1z1HfI/hqdefault.j...  \n",
      "\n",
      "[35392 rows x 8 columns]\n"
     ]
    }
   ],
   "source": [
    "import pandas as pd\n",
    "\n",
    "json_file_path = 'CNNect.data(full).json'\n",
    "\n",
    "df = read_json_to_df(json_file_path)\n",
    "# df.drop(columns=df.columns.difference(['full_script', 'video_id', 'title']), inplace=True)\n",
    "\n",
    "if df is not None:\n",
    "    print(df)"
   ]
  },
  {
   "cell_type": "markdown",
   "id": "668c5eb5",
   "metadata": {},
   "source": [
    "### 전처리 : 토큰화 및 패딩"
   ]
  },
  {
   "cell_type": "code",
   "execution_count": 205,
   "id": "a25a810e",
   "metadata": {},
   "outputs": [
    {
     "name": "stdout",
     "output_type": "stream",
     "text": [
      "가장 긴 문장의 단어 수: 24484\n",
      "중간 길이의 문장의 단어 수: 387\n"
     ]
    }
   ],
   "source": [
    "get_longest_word_count(df['full_script'].tolist())\n",
    "get_middlelong_word_count(df['full_script'].tolist())"
   ]
  },
  {
   "cell_type": "code",
   "execution_count": 186,
   "id": "a1061aeb",
   "metadata": {},
   "outputs": [
    {
     "name": "stdout",
     "output_type": "stream",
     "text": [
      "{'politics': 0, 'business': 1, 'sports': 2, 'style': 3, 'entertainment': 4, 'health': 5, 'travel': 6}\n"
     ]
    }
   ],
   "source": [
    "print(category_mapping)"
   ]
  },
  {
   "cell_type": "code",
   "execution_count": 206,
   "id": "1b11adb8",
   "metadata": {},
   "outputs": [
    {
     "data": {
      "text/plain": [
       "0        here with me now is israeli prime minister ben...\n",
       "1        after severe storms and tornadoes hit multiple...\n",
       "2        as you know it s been a tough week for the pro...\n",
       "3        are looking at images seen earlier in trenton ...\n",
       "4        m john better but pounds had this is cnn what ...\n",
       "                               ...                        \n",
       "35387    calls for blood are getting louder and louder ...\n",
       "35388    of you some information about what we re doing...\n",
       "35389    mostly a clandestine presence operated by the ...\n",
       "35390    and helping their dreams to come true and we r...\n",
       "35391    bjbjlulu joining us by telephone tonight is pi...\n",
       "Name: cleaned_script, Length: 35392, dtype: object"
      ]
     },
     "execution_count": 206,
     "metadata": {},
     "output_type": "execute_result"
    }
   ],
   "source": [
    "df['cleaned_script'] = df.full_script.apply(make_lower_case)\n",
    "df['cleaned_script'] = df.cleaned_script.apply(remove_punctuation)\n",
    "\n",
    "df['cleaned_script']"
   ]
  },
  {
   "cell_type": "code",
   "execution_count": null,
   "id": "ba01ac21",
   "metadata": {},
   "outputs": [],
   "source": [
    "# pip install tabulate"
   ]
  },
  {
   "cell_type": "code",
   "execution_count": 173,
   "id": "c73fe2af",
   "metadata": {},
   "outputs": [],
   "source": [
    "from tabulate import tabulate"
   ]
  },
  {
   "cell_type": "code",
   "execution_count": 207,
   "metadata": {},
   "outputs": [
    {
     "name": "stdout",
     "output_type": "stream",
     "text": [
      "\u001b[1m1106/1106\u001b[0m \u001b[32m━━━━━━━━━━━━━━━━━━━━\u001b[0m\u001b[37m\u001b[0m \u001b[1m11s\u001b[0m 10ms/step\n"
     ]
    }
   ],
   "source": [
    "max_length = 3000\n",
    "tokenizer = Tokenizer()\n",
    "tokenizer.fit_on_texts(df['cleaned_script'])\n",
    "X_sequences = tokenizer.texts_to_sequences(df['cleaned_script'])\n",
    "X_padded = pad_sequences(X_sequences, maxlen=max_length, padding='post', truncating='post')\n",
    "\n",
    "# 예측 수행\n",
    "predictions = model.predict(X_padded)\n",
    "\n",
    "# 예측 결과를 DataFrame에 적용\n",
    "df['category_id'] = [np.argmax(pred) for pred in predictions]\n"
   ]
  },
  {
   "cell_type": "code",
   "execution_count": 210,
   "id": "69ebf838",
   "metadata": {},
   "outputs": [],
   "source": [
    "# 숫자에서 문자로 카테고리 변환을 위한 딕셔너리 생성\n",
    "category_reverse_mapping = {index: category for category, index in category_mapping.items()}\n",
    "\n",
    "# 예측 결과를 문자로 변환하여 새로운 열에 추가\n",
    "df['predicted_category'] = df['category_id'].map(category_reverse_mapping)"
   ]
  },
  {
   "cell_type": "code",
   "execution_count": 211,
   "id": "738de7bf",
   "metadata": {},
   "outputs": [
    {
     "name": "stdout",
     "output_type": "stream",
     "text": [
      "+----+-------------+--------------------+\n",
      "|    |  video_id   | predicted_category |\n",
      "+----+-------------+--------------------+\n",
      "| 0  | jsxI0QjxJs8 |      politics      |\n",
      "| 1  | rGMqBoF3hkU |       sports       |\n",
      "| 2  | 2keAv3W3edw |       sports       |\n",
      "| 3  | dyXBfjwu4fA |       sports       |\n",
      "| 4  | 7ozPfsLRxZw |      business      |\n",
      "| 5  | Q1KbKe2eJaY |      politics      |\n",
      "| 6  | dwjJS2p0w4A |       sports       |\n",
      "| 7  | ibBNhhhTgMk |      business      |\n",
      "| 8  | dvccoSqV8NE |      business      |\n",
      "| 9  | 3eh5nCYG7k8 |       sports       |\n",
      "| 10 | xqTaUR0UsqI |       sports       |\n",
      "| 11 | NsqlJ9HnuLc |      politics      |\n",
      "| 12 | xifyyLL500w |       sports       |\n",
      "| 13 | 1TijdSYu6Kc |       sports       |\n",
      "| 14 | aEDLxivVPTY |       sports       |\n",
      "| 15 | XrICFSK3rA8 |       sports       |\n",
      "| 16 | 9BQT7odQwgw |      business      |\n",
      "| 17 | dRFXqGSMRPY |      politics      |\n",
      "| 18 | Bl0Imc6nDrk |       sports       |\n",
      "| 19 | oGxqtJY48k0 |       sports       |\n",
      "| 20 | FtE414zkSX0 |       sports       |\n",
      "| 21 | XtsbLBxWX_E |      politics      |\n",
      "| 22 | cFuUkD3grBo |       sports       |\n",
      "| 23 | NbnAMPrVKUY |      politics      |\n",
      "| 24 | s3CqVOuJ5I4 |      politics      |\n",
      "| 25 | kUGQ1dsc66U |      politics      |\n",
      "| 26 | fLT2ekuteVE |       sports       |\n",
      "| 27 | TH2IM1F1AAU |      business      |\n",
      "| 28 | wph4KFOmpM0 |      politics      |\n",
      "| 29 | pgVZnVTKqMw |      business      |\n",
      "| 30 | eFkAwV7zHkI |       sports       |\n",
      "| 31 | U-Qkbl8q6tI |      politics      |\n",
      "| 32 | URFfWZ_Em9o |       sports       |\n",
      "| 33 | -q9JCCGgLyU |       sports       |\n",
      "| 34 | vVdJmadaDrU |       sports       |\n",
      "| 35 | jFHZWSk7rps |       sports       |\n",
      "| 36 | i-WT_jdPNB4 |       sports       |\n",
      "| 37 | mOWwgzZdWZE |       sports       |\n",
      "| 38 | lPRWHoExvMc |       sports       |\n",
      "| 39 | fPmMVABWPlQ |   entertainment    |\n",
      "| 40 | o572EOAoYNg |       sports       |\n",
      "| 41 | dHZM5wnskhc |       style        |\n",
      "| 42 | 5KhLFhkqmaI |       sports       |\n",
      "| 43 | gfaRDaIIWUM |       sports       |\n",
      "| 44 | 85Avrne7v98 |      politics      |\n",
      "| 45 | 0As2c0_pYQA |      politics      |\n",
      "| 46 | 9pkZxn7GHaA |      politics      |\n",
      "| 47 | yL6uBQcsnHk |       sports       |\n",
      "| 48 | z8aOZmK3TF8 |      politics      |\n",
      "| 49 | THimFBZphf0 |      politics      |\n",
      "| 50 | PIWNVT-DQlc |      business      |\n",
      "| 51 | 6OIMA9Bob4A |      business      |\n",
      "| 52 | HETKsT8lAhs |      politics      |\n",
      "| 53 | 1M05Gcj74oE |      politics      |\n",
      "| 54 | t3VUkj1paL0 |       sports       |\n",
      "| 55 | 6rtTmmk5gt0 |      politics      |\n",
      "| 56 | ooreU1-GoEo |       sports       |\n",
      "| 57 | Sw-J7b1HdiI |      politics      |\n",
      "| 58 | QgFsdNfO7-c |       sports       |\n",
      "| 59 | aEMZU2isSu4 |      politics      |\n",
      "| 60 | EpjHiQreqzw |      politics      |\n",
      "| 61 | bdlhybSHHCs |      politics      |\n",
      "| 62 | RK_A-4cl694 |       sports       |\n",
      "| 63 | iirUc7sfU-Q |       sports       |\n",
      "| 64 | 1NVk3IIbXCs |       style        |\n",
      "| 65 | aMMclPLT5qE |       sports       |\n",
      "| 66 | 0h70ZDVeejA |       sports       |\n",
      "| 67 | mmrSuYCMS_M |      politics      |\n",
      "| 68 | 4MVSQuf7-j0 |      business      |\n",
      "| 69 | vT1hqVUu_FA |      business      |\n",
      "| 70 | uhdFcirGFD8 |      business      |\n",
      "| 71 | aQ_cQ3Imd7U |      politics      |\n",
      "| 72 | UIAPM3SG_8Q |      politics      |\n",
      "| 73 | X4N04RJpFpk |      politics      |\n",
      "| 74 | EeoT9-xp7tc |       sports       |\n",
      "| 75 | 9TTiYghN0Xo |       sports       |\n",
      "| 76 | 64l_NVj6e10 |      politics      |\n",
      "| 77 | lYbmCyhJhX8 |      politics      |\n",
      "| 78 | s_Lh-2nCCMw |       sports       |\n",
      "| 79 | 64ivmhyyRSI |   entertainment    |\n",
      "| 80 | 9AdixAJVTO0 |       sports       |\n",
      "| 81 | mtptFuBAg9Q |       sports       |\n",
      "| 82 | 5F6YRQKZX9E |       sports       |\n",
      "| 83 | yNPM2obgE7g |       sports       |\n",
      "| 84 | CDphmhaToV4 |      politics      |\n",
      "| 85 | LZ-px4nq8YQ |   entertainment    |\n",
      "| 86 | 65CI8hznDy4 |       sports       |\n",
      "| 87 | xTN1IcqZvOo |       sports       |\n",
      "| 88 | ei8wkDsxnaY |   entertainment    |\n",
      "| 89 | y8Cg3LwIcZk |       style        |\n",
      "| 90 | eT9E4zRwuGY |       style        |\n",
      "| 91 | 4JrhaZrpKBc |   entertainment    |\n",
      "| 92 | DGjSzIhmXRk |       style        |\n",
      "| 93 | BBvsr9_2TaU |       style        |\n",
      "| 94 | Ab-1ElJurBw |      politics      |\n",
      "| 95 | 2IXl4qJGrRk |      business      |\n",
      "| 96 | W47cFRJ2iI4 |      politics      |\n",
      "| 97 | xxvKKR-haTE |      politics      |\n",
      "| 98 | fJzoicql6Yw |       sports       |\n",
      "| 99 | X_5IXAEebo4 |       sports       |\n",
      "+----+-------------+--------------------+\n"
     ]
    }
   ],
   "source": [
    "print(tabulate(df[['video_id', 'predicted_category']][:100], headers='keys', tablefmt='pretty'))"
   ]
  },
  {
   "cell_type": "code",
   "execution_count": 212,
   "id": "8cb8a721",
   "metadata": {},
   "outputs": [
    {
     "name": "stdout",
     "output_type": "stream",
     "text": [
      "predicted_category\n",
      "politics         16339\n",
      "sports            7677\n",
      "entertainment     5850\n",
      "style             3922\n",
      "business          1428\n",
      "travel             165\n",
      "health              11\n",
      "Name: count, dtype: int64\n"
     ]
    }
   ],
   "source": [
    "prediction_counts = df['predicted_category'].value_counts()\n",
    "print(prediction_counts)"
   ]
  },
  {
   "cell_type": "code",
   "execution_count": 213,
   "id": "6c70ae02",
   "metadata": {},
   "outputs": [
    {
     "data": {
      "text/plain": [
       "Index(['_id', 'video_id', 'full_script', 'senteceList', 'category_name',\n",
       "       'video_date', 'video_name', 'video_thumbnail', 'cleaned_script',\n",
       "       'category_id', 'predicted_category'],\n",
       "      dtype='object')"
      ]
     },
     "execution_count": 213,
     "metadata": {},
     "output_type": "execute_result"
    }
   ],
   "source": [
    "df.columns"
   ]
  },
  {
   "cell_type": "code",
   "execution_count": 214,
   "id": "d3ea639a",
   "metadata": {},
   "outputs": [],
   "source": [
    "# 필요없는 컬럼 제거\n",
    "columns_to_drop = ['cleaned_script', 'predicted_category', 'category_name']\n",
    "df = df.drop(columns=columns_to_drop)\n",
    "\n",
    "# JSON 파일로 저장\n",
    "df.to_json('addCategory.json', orient='records')"
   ]
  },
  {
   "cell_type": "code",
   "execution_count": null,
   "id": "e51ceff6",
   "metadata": {},
   "outputs": [],
   "source": []
  }
 ],
 "metadata": {
  "kernelspec": {
   "display_name": ".venv",
   "language": "python",
   "name": "python3"
  },
  "language_info": {
   "codemirror_mode": {
    "name": "ipython",
    "version": 3
   },
   "file_extension": ".py",
   "mimetype": "text/x-python",
   "name": "python",
   "nbconvert_exporter": "python",
   "pygments_lexer": "ipython3",
   "version": "3.12.2"
  }
 },
 "nbformat": 4,
 "nbformat_minor": 5
}
