{
 "cells": [
  {
   "cell_type": "markdown",
   "id": "3c08d7ed-57c0-4281-82ad-154a10d7c716",
   "metadata": {},
   "source": [
    "### 패키지 설치 및 임포트"
   ]
  },
  {
   "cell_type": "code",
   "execution_count": 1,
   "id": "70b4fdcf-7bdb-4c29-949b-b4ba6a93edb2",
   "metadata": {},
   "outputs": [],
   "source": [
    "# pip install pandas\n",
    "# pip install matplotlib\n",
    "# pip install gensim\n",
    "# pip install scikit-learn"
   ]
  },
  {
   "cell_type": "code",
   "execution_count": 2,
   "id": "5062d274-6ec6-4cb3-b0f3-d029aeed1ac3",
   "metadata": {},
   "outputs": [],
   "source": [
    "import urllib.request\n",
    "import numpy as np\n",
    "import pandas as pd\n",
    "import matplotlib.pyplot as plt\n",
    "import requests\n",
    "import re\n",
    "from PIL import Image\n",
    "from io import BytesIO\n",
    "# from gensim.models import Word2Vec\n",
    "# from gensim.models import KeyedVectors\n",
    "# from nltk.corpus import stopwords\n",
    "from sklearn.metrics.pairwise import cosine_similarity"
   ]
  },
  {
   "cell_type": "markdown",
   "id": "1e695789-089e-42c5-a42a-76b0ffc788bd",
   "metadata": {},
   "source": [
    "### 데이터 불러와서 df 변환"
   ]
  },
  {
   "cell_type": "code",
   "execution_count": 58,
   "id": "5096b4b9-8cb5-4250-a87f-41dd409bd16d",
   "metadata": {},
   "outputs": [
    {
     "name": "stdout",
     "output_type": "stream",
     "text": [
      "                                                 title  category  \\\n",
      "97                   3 very different border realities  politics   \n",
      "98   Biden directs US military to establish aid por...  politics   \n",
      "99   Jill Biden’s State of the Union guests include...  politics   \n",
      "100  Supreme Court is under pressure to step into t...  politics   \n",
      "101  Biden projects a vision of strength that’s bee...  politics   \n",
      "..                                                 ...       ...   \n",
      "316  Despite being fired earlier this week, Long Be...    sports   \n",
      "317  Dallas Cowboys quarterback Dak Prescott being ...    sports   \n",
      "318  Mo Salah sets Liverpool goalscoring record in ...    sports   \n",
      "319  Lionel Messi and Luis Suárez roll back the yea...    sports   \n",
      "320  ‘When I see Russian athletes … I see every cit...    sports   \n",
      "\n",
      "                                                  text  \n",
      "97   Three completely different border realities we...  \n",
      "98   As President Joe Biden addressed Congress and ...  \n",
      "99   An Alabama woman seeking in vitro fertilizatio...  \n",
      "100  The Supreme Court is facing intense pressure t...  \n",
      "101  This version of Joe Biden could beat Donald Tr...  \n",
      "..                                                 ...  \n",
      "316  The Long Beach State Beach men’s basketball te...  \n",
      "317  Days after being sued for allegedly trying to ...  \n",
      "318  As bad days at the office go, it’s unlikely Sp...  \n",
      "319  Lionel Messi and Luis Suárez rolled back the y...  \n",
      "320  At some point last year, Yaroslava Mahuchikh v...  \n",
      "\n",
      "[645 rows x 3 columns]\n"
     ]
    }
   ],
   "source": [
    "def read_json_to_df(file_path):\n",
    "    try:\n",
    "        # JSON 파일을 DataFrame으로 읽어오기\n",
    "        df = pd.read_json(file_path)\n",
    "        return df\n",
    "    except FileNotFoundError:\n",
    "        print(\"File not found.\")\n",
    "        return None\n",
    "\n",
    "# JSON 파일 경로 설정\n",
    "json_file_path_1 = 'category/article(0308).json'\n",
    "json_file_path_2 = 'category/article(0319).json'\n",
    "\n",
    "# JSON 파일을 DataFrame으로 변환하여 출력\n",
    "df1 = read_json_to_df(json_file_path_1)\n",
    "df1.drop(df1[(df1['category'] == 'us') | (df1['category'] == 'world')].index, inplace=True)\n",
    "\n",
    "df2 = read_json_to_df(json_file_path_2)\n",
    "\n",
    "df = pd.concat([df1, df2])\n",
    "if df is not None:\n",
    "    print(df)"
   ]
  },
  {
   "cell_type": "markdown",
   "id": "b81e4d95-68a5-477a-ba8a-d25fda977191",
   "metadata": {},
   "source": [
    "### 기사 텍스트 데이터 클리닝"
   ]
  },
  {
   "cell_type": "code",
   "execution_count": 59,
   "id": "d4954b88-2876-46d1-88b9-fc3096946817",
   "metadata": {},
   "outputs": [
    {
     "data": {
      "text/plain": [
       "97     three completely different border realities we...\n",
       "98     as president joe biden addressed congress and ...\n",
       "99     an alabama woman seeking in vitro fertilizatio...\n",
       "100    the supreme court is facing intense pressure t...\n",
       "101    this version of joe biden could beat donald tr...\n",
       "                             ...                        \n",
       "316    the long beach state beach men s basketball te...\n",
       "317    days after being sued for allegedly trying to ...\n",
       "318    as bad days at the office go it s unlikely spa...\n",
       "319    lionel messi and luis su rez rolled back the y...\n",
       "320    at some point last year yaroslava mahuchikh vo...\n",
       "Name: cleaned_text, Length: 645, dtype: object"
      ]
     },
     "execution_count": 59,
     "metadata": {},
     "output_type": "execute_result"
    }
   ],
   "source": [
    "from nltk.tokenize import RegexpTokenizer\n",
    "\n",
    "def make_lower_case(text):\n",
    "    return text.lower()\n",
    "\n",
    "# 구두문자 제거\n",
    "def remove_punctuation(text):\n",
    "    tokenizer = RegexpTokenizer(r'[a-zA-Z]+')\n",
    "    text = tokenizer.tokenize(text)\n",
    "    text = \" \".join(text)\n",
    "    return text\n",
    "\n",
    "df['cleaned_text'] = df.text.apply(make_lower_case)\n",
    "df['cleaned_text'] = df.cleaned_text.apply(remove_punctuation)\n",
    "\n",
    "df['cleaned_text']"
   ]
  },
  {
   "cell_type": "markdown",
   "id": "4e9429a0-e98d-4ff6-b198-852189cd9a8e",
   "metadata": {},
   "source": [
    "## 모델 훈련"
   ]
  },
  {
   "cell_type": "code",
   "execution_count": 5,
   "id": "1a130719-f4e2-4214-ae1c-3268195dba89",
   "metadata": {},
   "outputs": [],
   "source": [
    "import tensorflow as tf\n",
    "from tensorflow.keras.preprocessing.text import Tokenizer\n",
    "from tensorflow.keras.preprocessing.sequence import pad_sequences\n",
    "from sklearn.model_selection import train_test_split"
   ]
  },
  {
   "cell_type": "markdown",
   "id": "caace0aa-348b-4d1d-b427-00c19ecb30cf",
   "metadata": {},
   "source": [
    "### 데이터셋 로드"
   ]
  },
  {
   "cell_type": "code",
   "execution_count": 60,
   "id": "8f343661-dc50-46f3-beaf-d342ea482e94",
   "metadata": {},
   "outputs": [],
   "source": [
    "X = df['cleaned_text'].tolist()\n",
    "y = df['category'].tolist()"
   ]
  },
  {
   "cell_type": "markdown",
   "id": "1fd05085-53a6-4878-85d2-402e1aaa784c",
   "metadata": {},
   "source": [
    "### 카테고리, 텍스트 전처리"
   ]
  },
  {
   "cell_type": "code",
   "execution_count": 61,
   "id": "51442962-ecc7-4a1b-b9fd-dceb87518380",
   "metadata": {},
   "outputs": [],
   "source": [
    "# 카테고리 정수 변환\n",
    "categories = df['category'].unique()\n",
    "\n",
    "# 각 카테고리에 고유한 정수 인덱스를 지정하기 위한 매핑 딕셔너리 생성\n",
    "category_mapping = {category: index for index, category in enumerate(categories)}\n",
    "\n",
    "# 각 카테고리를 정수 인덱스로 변환\n",
    "y_encoded = np.array([category_mapping[category] for category in y])"
   ]
  },
  {
   "cell_type": "code",
   "execution_count": 62,
   "id": "b5047a25-3107-41f3-85ba-932e74310a5f",
   "metadata": {},
   "outputs": [],
   "source": [
    "# 텍스트 데이터 전처리\n",
    "# 딥러닝 위해 패딩 처리\n",
    "max_length = 100\n",
    "tokenizer = Tokenizer()\n",
    "tokenizer.fit_on_texts(X)\n",
    "X_sequences = tokenizer.texts_to_sequences(X)\n",
    "X_padded = pad_sequences(X_sequences, maxlen=max_length, padding='post', truncating='post')\n",
    "\n",
    "# 데이터셋 분할\n",
    "X_train, X_test, y_train, y_test = train_test_split(X_padded, y_encoded, test_size=0.3, random_state=42)"
   ]
  },
  {
   "cell_type": "markdown",
   "id": "8a487c18-100a-42ec-b94c-889b87af0900",
   "metadata": {},
   "source": [
    "### 하이퍼파라미터 결정"
   ]
  },
  {
   "cell_type": "code",
   "execution_count": 63,
   "id": "8bd50524-60ee-4ec8-92d9-33d491202130",
   "metadata": {},
   "outputs": [
    {
     "name": "stdout",
     "output_type": "stream",
     "text": [
      "가장 긴 문장의 단어 수: 1543\n"
     ]
    }
   ],
   "source": [
    "def get_longest_word_count(sentences):\n",
    "    # 각 문장의 길이를 측정하여 리스트에 저장합니다.\n",
    "    sentence_lengths = [len(sentence.split()) for sentence in sentences]\n",
    "\n",
    "    # 최대 길이를 갖는 문장의 인덱스를 찾습니다.\n",
    "    max_length_index = sentence_lengths.index(max(sentence_lengths))\n",
    "\n",
    "    # 최대 길이를 갖는 문장을 가져옵니다.\n",
    "    longest_sentence = sentences[max_length_index]\n",
    "\n",
    "    # 가장 긴 문장의 단어 수를 카운트합니다.\n",
    "    longest_sentence_word_count = len(set(longest_sentence.split()))\n",
    "\n",
    "    print(\"가장 긴 문장의 단어 수:\", longest_sentence_word_count)\n",
    "\n",
    "get_longest_word_count(X)"
   ]
  },
  {
   "cell_type": "code",
   "execution_count": 70,
   "id": "d1f3a896-83c9-4926-a331-3bf40a3056de",
   "metadata": {},
   "outputs": [
    {
     "name": "stdout",
     "output_type": "stream",
     "text": [
      "Epoch 1/45\n",
      "\u001b[1m15/15\u001b[0m \u001b[32m━━━━━━━━━━━━━━━━━━━━\u001b[0m\u001b[37m\u001b[0m \u001b[1m5s\u001b[0m 13ms/step - accuracy: 0.1867 - loss: 1.9390 - val_accuracy: 0.1856 - val_loss: 1.9092\n",
      "Epoch 2/45\n",
      "\u001b[1m15/15\u001b[0m \u001b[32m━━━━━━━━━━━━━━━━━━━━\u001b[0m\u001b[37m\u001b[0m \u001b[1m0s\u001b[0m 5ms/step - accuracy: 0.2365 - loss: 1.8908 - val_accuracy: 0.1959 - val_loss: 1.8576\n",
      "Epoch 3/45\n",
      "\u001b[1m15/15\u001b[0m \u001b[32m━━━━━━━━━━━━━━━━━━━━\u001b[0m\u001b[37m\u001b[0m \u001b[1m0s\u001b[0m 5ms/step - accuracy: 0.2440 - loss: 1.8412 - val_accuracy: 0.2216 - val_loss: 1.8047\n",
      "Epoch 4/45\n",
      "\u001b[1m15/15\u001b[0m \u001b[32m━━━━━━━━━━━━━━━━━━━━\u001b[0m\u001b[37m\u001b[0m \u001b[1m0s\u001b[0m 5ms/step - accuracy: 0.2587 - loss: 1.7689 - val_accuracy: 0.3041 - val_loss: 1.7266\n",
      "Epoch 5/45\n",
      "\u001b[1m15/15\u001b[0m \u001b[32m━━━━━━━━━━━━━━━━━━━━\u001b[0m\u001b[37m\u001b[0m \u001b[1m0s\u001b[0m 5ms/step - accuracy: 0.4366 - loss: 1.6655 - val_accuracy: 0.4948 - val_loss: 1.6455\n",
      "Epoch 6/45\n",
      "\u001b[1m15/15\u001b[0m \u001b[32m━━━━━━━━━━━━━━━━━━━━\u001b[0m\u001b[37m\u001b[0m \u001b[1m0s\u001b[0m 5ms/step - accuracy: 0.6633 - loss: 1.4773 - val_accuracy: 0.5155 - val_loss: 1.5131\n",
      "Epoch 7/45\n",
      "\u001b[1m15/15\u001b[0m \u001b[32m━━━━━━━━━━━━━━━━━━━━\u001b[0m\u001b[37m\u001b[0m \u001b[1m0s\u001b[0m 5ms/step - accuracy: 0.7025 - loss: 1.2674 - val_accuracy: 0.5464 - val_loss: 1.3799\n",
      "Epoch 8/45\n",
      "\u001b[1m15/15\u001b[0m \u001b[32m━━━━━━━━━━━━━━━━━━━━\u001b[0m\u001b[37m\u001b[0m \u001b[1m0s\u001b[0m 5ms/step - accuracy: 0.8225 - loss: 1.0630 - val_accuracy: 0.5773 - val_loss: 1.2546\n",
      "Epoch 9/45\n",
      "\u001b[1m15/15\u001b[0m \u001b[32m━━━━━━━━━━━━━━━━━━━━\u001b[0m\u001b[37m\u001b[0m \u001b[1m0s\u001b[0m 5ms/step - accuracy: 0.8735 - loss: 0.8532 - val_accuracy: 0.6495 - val_loss: 1.1425\n",
      "Epoch 10/45\n",
      "\u001b[1m15/15\u001b[0m \u001b[32m━━━━━━━━━━━━━━━━━━━━\u001b[0m\u001b[37m\u001b[0m \u001b[1m0s\u001b[0m 5ms/step - accuracy: 0.9165 - loss: 0.6538 - val_accuracy: 0.6856 - val_loss: 1.0051\n",
      "Epoch 11/45\n",
      "\u001b[1m15/15\u001b[0m \u001b[32m━━━━━━━━━━━━━━━━━━━━\u001b[0m\u001b[37m\u001b[0m \u001b[1m0s\u001b[0m 5ms/step - accuracy: 0.9717 - loss: 0.4779 - val_accuracy: 0.6649 - val_loss: 0.9659\n",
      "Epoch 12/45\n",
      "\u001b[1m15/15\u001b[0m \u001b[32m━━━━━━━━━━━━━━━━━━━━\u001b[0m\u001b[37m\u001b[0m \u001b[1m0s\u001b[0m 5ms/step - accuracy: 0.9782 - loss: 0.3928 - val_accuracy: 0.6495 - val_loss: 0.8703\n",
      "Epoch 13/45\n",
      "\u001b[1m15/15\u001b[0m \u001b[32m━━━━━━━━━━━━━━━━━━━━\u001b[0m\u001b[37m\u001b[0m \u001b[1m0s\u001b[0m 5ms/step - accuracy: 0.9774 - loss: 0.2860 - val_accuracy: 0.6959 - val_loss: 0.8180\n",
      "Epoch 14/45\n",
      "\u001b[1m15/15\u001b[0m \u001b[32m━━━━━━━━━━━━━━━━━━━━\u001b[0m\u001b[37m\u001b[0m \u001b[1m0s\u001b[0m 5ms/step - accuracy: 0.9805 - loss: 0.2240 - val_accuracy: 0.7268 - val_loss: 0.7618\n",
      "Epoch 15/45\n",
      "\u001b[1m15/15\u001b[0m \u001b[32m━━━━━━━━━━━━━━━━━━━━\u001b[0m\u001b[37m\u001b[0m \u001b[1m0s\u001b[0m 5ms/step - accuracy: 0.9910 - loss: 0.1639 - val_accuracy: 0.7577 - val_loss: 0.7333\n",
      "Epoch 16/45\n",
      "\u001b[1m15/15\u001b[0m \u001b[32m━━━━━━━━━━━━━━━━━━━━\u001b[0m\u001b[37m\u001b[0m \u001b[1m0s\u001b[0m 5ms/step - accuracy: 0.9818 - loss: 0.1340 - val_accuracy: 0.7526 - val_loss: 0.7126\n",
      "Epoch 17/45\n",
      "\u001b[1m15/15\u001b[0m \u001b[32m━━━━━━━━━━━━━━━━━━━━\u001b[0m\u001b[37m\u001b[0m \u001b[1m0s\u001b[0m 5ms/step - accuracy: 0.9866 - loss: 0.1112 - val_accuracy: 0.7268 - val_loss: 0.6926\n",
      "Epoch 18/45\n",
      "\u001b[1m15/15\u001b[0m \u001b[32m━━━━━━━━━━━━━━━━━━━━\u001b[0m\u001b[37m\u001b[0m \u001b[1m0s\u001b[0m 5ms/step - accuracy: 0.9883 - loss: 0.0873 - val_accuracy: 0.7526 - val_loss: 0.6805\n",
      "Epoch 19/45\n",
      "\u001b[1m15/15\u001b[0m \u001b[32m━━━━━━━━━━━━━━━━━━━━\u001b[0m\u001b[37m\u001b[0m \u001b[1m0s\u001b[0m 5ms/step - accuracy: 0.9946 - loss: 0.0797 - val_accuracy: 0.7371 - val_loss: 0.6722\n",
      "Epoch 20/45\n",
      "\u001b[1m15/15\u001b[0m \u001b[32m━━━━━━━━━━━━━━━━━━━━\u001b[0m\u001b[37m\u001b[0m \u001b[1m0s\u001b[0m 5ms/step - accuracy: 0.9915 - loss: 0.0683 - val_accuracy: 0.7371 - val_loss: 0.6626\n",
      "Epoch 21/45\n",
      "\u001b[1m15/15\u001b[0m \u001b[32m━━━━━━━━━━━━━━━━━━━━\u001b[0m\u001b[37m\u001b[0m \u001b[1m0s\u001b[0m 5ms/step - accuracy: 0.9834 - loss: 0.0594 - val_accuracy: 0.7577 - val_loss: 0.6584\n",
      "Epoch 22/45\n",
      "\u001b[1m15/15\u001b[0m \u001b[32m━━━━━━━━━━━━━━━━━━━━\u001b[0m\u001b[37m\u001b[0m \u001b[1m0s\u001b[0m 5ms/step - accuracy: 0.9943 - loss: 0.0491 - val_accuracy: 0.7371 - val_loss: 0.6537\n",
      "Epoch 23/45\n",
      "\u001b[1m15/15\u001b[0m \u001b[32m━━━━━━━━━━━━━━━━━━━━\u001b[0m\u001b[37m\u001b[0m \u001b[1m0s\u001b[0m 5ms/step - accuracy: 0.9964 - loss: 0.0423 - val_accuracy: 0.7371 - val_loss: 0.6485\n",
      "Epoch 24/45\n",
      "\u001b[1m15/15\u001b[0m \u001b[32m━━━━━━━━━━━━━━━━━━━━\u001b[0m\u001b[37m\u001b[0m \u001b[1m0s\u001b[0m 5ms/step - accuracy: 0.9932 - loss: 0.0412 - val_accuracy: 0.7577 - val_loss: 0.6460\n",
      "Epoch 25/45\n",
      "\u001b[1m15/15\u001b[0m \u001b[32m━━━━━━━━━━━━━━━━━━━━\u001b[0m\u001b[37m\u001b[0m \u001b[1m0s\u001b[0m 5ms/step - accuracy: 0.9967 - loss: 0.0345 - val_accuracy: 0.7629 - val_loss: 0.6388\n",
      "Epoch 26/45\n",
      "\u001b[1m15/15\u001b[0m \u001b[32m━━━━━━━━━━━━━━━━━━━━\u001b[0m\u001b[37m\u001b[0m \u001b[1m0s\u001b[0m 5ms/step - accuracy: 0.9889 - loss: 0.0380 - val_accuracy: 0.7371 - val_loss: 0.6371\n",
      "Epoch 27/45\n",
      "\u001b[1m15/15\u001b[0m \u001b[32m━━━━━━━━━━━━━━━━━━━━\u001b[0m\u001b[37m\u001b[0m \u001b[1m0s\u001b[0m 5ms/step - accuracy: 0.9930 - loss: 0.0312 - val_accuracy: 0.7423 - val_loss: 0.6351\n",
      "Epoch 28/45\n",
      "\u001b[1m15/15\u001b[0m \u001b[32m━━━━━━━━━━━━━━━━━━━━\u001b[0m\u001b[37m\u001b[0m \u001b[1m0s\u001b[0m 5ms/step - accuracy: 0.9950 - loss: 0.0291 - val_accuracy: 0.7577 - val_loss: 0.6355\n",
      "Epoch 29/45\n",
      "\u001b[1m15/15\u001b[0m \u001b[32m━━━━━━━━━━━━━━━━━━━━\u001b[0m\u001b[37m\u001b[0m \u001b[1m0s\u001b[0m 5ms/step - accuracy: 0.9837 - loss: 0.0322 - val_accuracy: 0.7423 - val_loss: 0.6328\n",
      "Epoch 30/45\n",
      "\u001b[1m15/15\u001b[0m \u001b[32m━━━━━━━━━━━━━━━━━━━━\u001b[0m\u001b[37m\u001b[0m \u001b[1m0s\u001b[0m 5ms/step - accuracy: 0.9910 - loss: 0.0294 - val_accuracy: 0.7423 - val_loss: 0.6292\n",
      "Epoch 31/45\n",
      "\u001b[1m15/15\u001b[0m \u001b[32m━━━━━━━━━━━━━━━━━━━━\u001b[0m\u001b[37m\u001b[0m \u001b[1m0s\u001b[0m 5ms/step - accuracy: 0.9864 - loss: 0.0252 - val_accuracy: 0.7577 - val_loss: 0.6285\n",
      "Epoch 32/45\n",
      "\u001b[1m15/15\u001b[0m \u001b[32m━━━━━━━━━━━━━━━━━━━━\u001b[0m\u001b[37m\u001b[0m \u001b[1m0s\u001b[0m 5ms/step - accuracy: 0.9896 - loss: 0.0273 - val_accuracy: 0.7423 - val_loss: 0.6336\n",
      "Epoch 33/45\n",
      "\u001b[1m15/15\u001b[0m \u001b[32m━━━━━━━━━━━━━━━━━━━━\u001b[0m\u001b[37m\u001b[0m \u001b[1m0s\u001b[0m 5ms/step - accuracy: 0.9858 - loss: 0.0303 - val_accuracy: 0.7320 - val_loss: 0.6528\n",
      "Epoch 34/45\n",
      "\u001b[1m15/15\u001b[0m \u001b[32m━━━━━━━━━━━━━━━━━━━━\u001b[0m\u001b[37m\u001b[0m \u001b[1m0s\u001b[0m 5ms/step - accuracy: 0.9925 - loss: 0.0259 - val_accuracy: 0.7320 - val_loss: 0.6302\n",
      "Epoch 35/45\n",
      "\u001b[1m15/15\u001b[0m \u001b[32m━━━━━━━━━━━━━━━━━━━━\u001b[0m\u001b[37m\u001b[0m \u001b[1m0s\u001b[0m 5ms/step - accuracy: 0.9916 - loss: 0.0192 - val_accuracy: 0.7577 - val_loss: 0.6223\n",
      "Epoch 36/45\n",
      "\u001b[1m15/15\u001b[0m \u001b[32m━━━━━━━━━━━━━━━━━━━━\u001b[0m\u001b[37m\u001b[0m \u001b[1m0s\u001b[0m 5ms/step - accuracy: 0.9900 - loss: 0.0218 - val_accuracy: 0.7371 - val_loss: 0.6262\n",
      "Epoch 37/45\n",
      "\u001b[1m15/15\u001b[0m \u001b[32m━━━━━━━━━━━━━━━━━━━━\u001b[0m\u001b[37m\u001b[0m \u001b[1m0s\u001b[0m 5ms/step - accuracy: 0.9850 - loss: 0.0315 - val_accuracy: 0.7371 - val_loss: 0.6214\n",
      "Epoch 38/45\n",
      "\u001b[1m15/15\u001b[0m \u001b[32m━━━━━━━━━━━━━━━━━━━━\u001b[0m\u001b[37m\u001b[0m \u001b[1m0s\u001b[0m 5ms/step - accuracy: 0.9953 - loss: 0.0158 - val_accuracy: 0.7577 - val_loss: 0.6258\n",
      "Epoch 39/45\n",
      "\u001b[1m15/15\u001b[0m \u001b[32m━━━━━━━━━━━━━━━━━━━━\u001b[0m\u001b[37m\u001b[0m \u001b[1m0s\u001b[0m 5ms/step - accuracy: 0.9893 - loss: 0.0231 - val_accuracy: 0.7371 - val_loss: 0.6286\n",
      "Epoch 40/45\n",
      "\u001b[1m15/15\u001b[0m \u001b[32m━━━━━━━━━━━━━━━━━━━━\u001b[0m\u001b[37m\u001b[0m \u001b[1m0s\u001b[0m 5ms/step - accuracy: 0.9872 - loss: 0.0187 - val_accuracy: 0.7320 - val_loss: 0.6293\n",
      "Epoch 41/45\n",
      "\u001b[1m15/15\u001b[0m \u001b[32m━━━━━━━━━━━━━━━━━━━━\u001b[0m\u001b[37m\u001b[0m \u001b[1m0s\u001b[0m 5ms/step - accuracy: 0.9911 - loss: 0.0192 - val_accuracy: 0.7577 - val_loss: 0.6291\n",
      "Epoch 42/45\n",
      "\u001b[1m15/15\u001b[0m \u001b[32m━━━━━━━━━━━━━━━━━━━━\u001b[0m\u001b[37m\u001b[0m \u001b[1m0s\u001b[0m 5ms/step - accuracy: 0.9857 - loss: 0.0176 - val_accuracy: 0.7371 - val_loss: 0.6260\n",
      "Epoch 43/45\n",
      "\u001b[1m15/15\u001b[0m \u001b[32m━━━━━━━━━━━━━━━━━━━━\u001b[0m\u001b[37m\u001b[0m \u001b[1m0s\u001b[0m 5ms/step - accuracy: 0.9861 - loss: 0.0204 - val_accuracy: 0.7577 - val_loss: 0.6265\n",
      "Epoch 44/45\n",
      "\u001b[1m15/15\u001b[0m \u001b[32m━━━━━━━━━━━━━━━━━━━━\u001b[0m\u001b[37m\u001b[0m \u001b[1m0s\u001b[0m 5ms/step - accuracy: 0.9851 - loss: 0.0223 - val_accuracy: 0.7371 - val_loss: 0.6314\n",
      "Epoch 45/45\n",
      "\u001b[1m15/15\u001b[0m \u001b[32m━━━━━━━━━━━━━━━━━━━━\u001b[0m\u001b[37m\u001b[0m \u001b[1m0s\u001b[0m 5ms/step - accuracy: 0.9924 - loss: 0.0219 - val_accuracy: 0.7680 - val_loss: 0.6287\n"
     ]
    },
    {
     "data": {
      "text/plain": [
       "<keras.src.callbacks.history.History at 0x1bc0222cda0>"
      ]
     },
     "execution_count": 70,
     "metadata": {},
     "output_type": "execute_result"
    }
   ],
   "source": [
    "# 모델 구성\n",
    "vocab_size = 3000\n",
    "embedding_dim = 300\n",
    "\n",
    "model = tf.keras.Sequential([\n",
    "    tf.keras.layers.Embedding(input_dim=vocab_size, output_dim=embedding_dim),\n",
    "    tf.keras.layers.GlobalAveragePooling1D(),\n",
    "    tf.keras.layers.Dense(64, activation='relu'),\n",
    "    tf.keras.layers.Dense(7, activation='softmax')\n",
    "])\n",
    "\n",
    "# 모델 컴파일\n",
    "# model.compile(loss='categorical_crossentropy', optimizer='adam', metrics=['accuracy'])\n",
    "model.compile(optimizer='adam', loss='sparse_categorical_crossentropy', metrics=['accuracy'])\n",
    "\n",
    "# 모델 훈련\n",
    "model.fit(X_train, y_train, epochs=45, batch_size=32, validation_data=(X_test, y_test))"
   ]
  },
  {
   "cell_type": "code",
   "execution_count": 71,
   "id": "d48e99d3-f130-4701-8802-dfbf2acbfe8c",
   "metadata": {},
   "outputs": [
    {
     "name": "stdout",
     "output_type": "stream",
     "text": [
      "\u001b[1m7/7\u001b[0m \u001b[32m━━━━━━━━━━━━━━━━━━━━\u001b[0m\u001b[37m\u001b[0m \u001b[1m0s\u001b[0m 1ms/step - accuracy: 0.7724 - loss: 0.6529 \n",
      "Test Accuracy: 0.7680412530899048\n"
     ]
    }
   ],
   "source": [
    "# 모델 평가\n",
    "loss, accuracy = model.evaluate(X_test, y_test)\n",
    "print(\"Test Accuracy:\", accuracy)"
   ]
  },
  {
   "cell_type": "markdown",
   "id": "1ba10970-69d4-4ed5-95b9-ad56062af767",
   "metadata": {},
   "source": [
    "## 테스트"
   ]
  },
  {
   "cell_type": "markdown",
   "id": "9212ac34",
   "metadata": {},
   "source": [
    "### 데이터 가져오기"
   ]
  },
  {
   "cell_type": "code",
   "execution_count": 50,
   "id": "a3c81db9-1526-4056-b640-97648493b5ce",
   "metadata": {},
   "outputs": [
    {
     "name": "stdout",
     "output_type": "stream",
     "text": [
      "          video_id                                        full_script\n",
      "0      jsxI0QjxJs8  Here with me now is Israeli Prime Minister Ben...\n",
      "1      rGMqBoF3hkU  After severe storms and tornadoes hit multiple...\n",
      "2      2keAv3W3edw  As you know, it's been a tough week for the pr...\n",
      "3      dyXBfjwu4fA  Are looking at images seen earlier in Trenton,...\n",
      "4      7ozPfsLRxZw  'M  JOHN BETTER, BUT POUNDS HAD  THIS IS CNN  ...\n",
      "...            ...                                                ...\n",
      "35387  HGQct9tFpm0  CALLS FOR BLOOD ARE GETTING  LOUDER AND LOUDER...\n",
      "35388  nLtnU20ZVO0  OF YOU SOME INFORMATION ABOUT  WHAT WE'RE DOIN...\n",
      "35389  vmxgRP7OZf8  MOSTLY A CLANDESTINE PRESENCE  OPERATED BY THE...\n",
      "35390  34-cY8wIrcw  AND HELPING THEIR DREAMS TO COME TRUE. AND WE ...\n",
      "35391  -aWdR1z1HfI  bjbjLULU Joining us by telephone tonight is\\np...\n",
      "\n",
      "[35392 rows x 2 columns]\n"
     ]
    }
   ],
   "source": [
    "import pandas as pd\n",
    "\n",
    "json_file_path = 'CNNect.data(full).json'\n",
    "\n",
    "df = read_json_to_df(json_file_path)\n",
    "df.drop(columns=df.columns.difference(['full_script', 'video_id', 'title']), inplace=True)\n",
    "\n",
    "if df is not None:\n",
    "    print(df)"
   ]
  },
  {
   "cell_type": "markdown",
   "id": "668c5eb5",
   "metadata": {},
   "source": [
    "### 전처리 : 토큰화 및 패딩"
   ]
  },
  {
   "cell_type": "code",
   "execution_count": 51,
   "id": "a25a810e",
   "metadata": {},
   "outputs": [
    {
     "name": "stdout",
     "output_type": "stream",
     "text": [
      "가장 긴 문장의 단어 수: 709\n"
     ]
    }
   ],
   "source": [
    "get_longest_word_count(df['full_script'].tolist())"
   ]
  },
  {
   "cell_type": "code",
   "execution_count": 19,
   "id": "a1061aeb",
   "metadata": {},
   "outputs": [
    {
     "name": "stdout",
     "output_type": "stream",
     "text": [
      "{'politics': 0, 'business': 1, 'health': 2, 'entertainment': 3, 'style': 4, 'travel': 5, 'sports': 6}\n"
     ]
    }
   ],
   "source": [
    "print(category_mapping)"
   ]
  },
  {
   "cell_type": "code",
   "execution_count": 52,
   "id": "1b11adb8",
   "metadata": {},
   "outputs": [
    {
     "data": {
      "text/plain": [
       "0        here with me now is israeli prime minister ben...\n",
       "1        after severe storms and tornadoes hit multiple...\n",
       "2        as you know it s been a tough week for the pro...\n",
       "3        are looking at images seen earlier in trenton ...\n",
       "4        m john better but pounds had this is cnn what ...\n",
       "                               ...                        \n",
       "35387    calls for blood are getting louder and louder ...\n",
       "35388    of you some information about what we re doing...\n",
       "35389    mostly a clandestine presence operated by the ...\n",
       "35390    and helping their dreams to come true and we r...\n",
       "35391    bjbjlulu joining us by telephone tonight is pi...\n",
       "Name: cleaned_script, Length: 35392, dtype: object"
      ]
     },
     "execution_count": 52,
     "metadata": {},
     "output_type": "execute_result"
    }
   ],
   "source": [
    "df['cleaned_script'] = df.full_script.apply(make_lower_case)\n",
    "df['cleaned_script'] = df.cleaned_script.apply(remove_punctuation)\n",
    "\n",
    "df['cleaned_script']"
   ]
  },
  {
   "cell_type": "code",
   "execution_count": 35,
   "id": "c73fe2af",
   "metadata": {},
   "outputs": [],
   "source": [
    "from tabulate import tabulate"
   ]
  },
  {
   "cell_type": "code",
   "execution_count": 53,
   "metadata": {},
   "outputs": [
    {
     "name": "stdout",
     "output_type": "stream",
     "text": [
      "\u001b[1m1106/1106\u001b[0m \u001b[32m━━━━━━━━━━━━━━━━━━━━\u001b[0m\u001b[37m\u001b[0m \u001b[1m6s\u001b[0m 5ms/step\n"
     ]
    }
   ],
   "source": [
    "max_length = 1000\n",
    "tokenizer = Tokenizer()\n",
    "tokenizer.fit_on_texts(df['cleaned_script'])\n",
    "X_sequences = tokenizer.texts_to_sequences(df['cleaned_script'])\n",
    "X_padded = pad_sequences(X_sequences, maxlen=max_length, padding='post', truncating='post')\n",
    "\n",
    "# 예측 수행\n",
    "predictions = model.predict(X_padded)\n",
    "\n",
    "# 예측 결과를 DataFrame에 새로운 열로 추가\n",
    "df['predictions'] = [np.argmax(pred) for pred in predictions]\n"
   ]
  },
  {
   "cell_type": "code",
   "execution_count": 56,
   "id": "69ebf838",
   "metadata": {},
   "outputs": [],
   "source": [
    "# 숫자에서 문자로 카테고리 변환을 위한 딕셔너리 생성\n",
    "category_reverse_mapping = {index: category for category, index in category_mapping.items()}\n",
    "\n",
    "# 예측 결과를 문자로 변환하여 새로운 열에 추가\n",
    "df['predicted_category'] = df['predictions'].map(category_reverse_mapping)"
   ]
  },
  {
   "cell_type": "code",
   "execution_count": 41,
   "id": "738de7bf",
   "metadata": {},
   "outputs": [
    {
     "name": "stdout",
     "output_type": "stream",
     "text": [
      "+----+-------------+--------------------+\n",
      "|    |  video_id   | predicted_category |\n",
      "+----+-------------+--------------------+\n",
      "| 0  | jsxI0QjxJs8 |      business      |\n",
      "| 1  | rGMqBoF3hkU |       travel       |\n",
      "| 2  | 2keAv3W3edw |      politics      |\n",
      "| 3  | dyXBfjwu4fA |      politics      |\n",
      "| 4  | 7ozPfsLRxZw |   entertainment    |\n",
      "| 5  | Q1KbKe2eJaY |      business      |\n",
      "| 6  | dwjJS2p0w4A |      business      |\n",
      "| 7  | ibBNhhhTgMk |      politics      |\n",
      "| 8  | dvccoSqV8NE |      business      |\n",
      "| 9  | 3eh5nCYG7k8 |      politics      |\n",
      "| 10 | xqTaUR0UsqI |      business      |\n",
      "| 11 | NsqlJ9HnuLc |      politics      |\n",
      "| 12 | xifyyLL500w |      business      |\n",
      "| 13 | 1TijdSYu6Kc |      business      |\n",
      "| 14 | aEDLxivVPTY |      politics      |\n",
      "| 15 | XrICFSK3rA8 |      politics      |\n",
      "| 16 | 9BQT7odQwgw |      business      |\n",
      "| 17 | dRFXqGSMRPY |      business      |\n",
      "| 18 | Bl0Imc6nDrk |      politics      |\n",
      "| 19 | oGxqtJY48k0 |      business      |\n",
      "| 20 | FtE414zkSX0 |   entertainment    |\n",
      "| 21 | XtsbLBxWX_E |      business      |\n",
      "| 22 | cFuUkD3grBo |      politics      |\n",
      "| 23 | NbnAMPrVKUY |      politics      |\n",
      "| 24 | s3CqVOuJ5I4 |      business      |\n",
      "| 25 | kUGQ1dsc66U |      business      |\n",
      "| 26 | fLT2ekuteVE |      business      |\n",
      "| 27 | TH2IM1F1AAU |   entertainment    |\n",
      "| 28 | wph4KFOmpM0 |      politics      |\n",
      "| 29 | pgVZnVTKqMw |      politics      |\n",
      "| 30 | eFkAwV7zHkI |      politics      |\n",
      "| 31 | U-Qkbl8q6tI |      politics      |\n",
      "| 32 | URFfWZ_Em9o |      business      |\n",
      "| 33 | -q9JCCGgLyU |      business      |\n",
      "| 34 | vVdJmadaDrU |      politics      |\n",
      "| 35 | jFHZWSk7rps |      politics      |\n",
      "| 36 | i-WT_jdPNB4 |      business      |\n",
      "| 37 | mOWwgzZdWZE |      politics      |\n",
      "| 38 | lPRWHoExvMc |      politics      |\n",
      "| 39 | fPmMVABWPlQ |      business      |\n",
      "| 40 | o572EOAoYNg |      politics      |\n",
      "| 41 | dHZM5wnskhc |      business      |\n",
      "| 42 | 5KhLFhkqmaI |      business      |\n",
      "| 43 | gfaRDaIIWUM |      business      |\n",
      "| 44 | 85Avrne7v98 |   entertainment    |\n",
      "| 45 | 0As2c0_pYQA |      business      |\n",
      "| 46 | 9pkZxn7GHaA |      business      |\n",
      "| 47 | yL6uBQcsnHk |      business      |\n",
      "| 48 | z8aOZmK3TF8 |      business      |\n",
      "| 49 | THimFBZphf0 |      business      |\n",
      "| 50 | PIWNVT-DQlc |       sports       |\n",
      "| 51 | 6OIMA9Bob4A |      business      |\n",
      "| 52 | HETKsT8lAhs |      business      |\n",
      "| 53 | 1M05Gcj74oE |      politics      |\n",
      "| 54 | t3VUkj1paL0 |      business      |\n",
      "| 55 | 6rtTmmk5gt0 |      business      |\n",
      "| 56 | ooreU1-GoEo |      politics      |\n",
      "| 57 | Sw-J7b1HdiI |      business      |\n",
      "| 58 | QgFsdNfO7-c |      business      |\n",
      "| 59 | aEMZU2isSu4 |       sports       |\n",
      "| 60 | EpjHiQreqzw |      business      |\n",
      "| 61 | bdlhybSHHCs |      politics      |\n",
      "| 62 | RK_A-4cl694 |      business      |\n",
      "| 63 | iirUc7sfU-Q |      business      |\n",
      "| 64 | 1NVk3IIbXCs |      business      |\n",
      "| 65 | aMMclPLT5qE |       sports       |\n",
      "| 66 | 0h70ZDVeejA |      business      |\n",
      "| 67 | mmrSuYCMS_M |      business      |\n",
      "| 68 | 4MVSQuf7-j0 |      politics      |\n",
      "| 69 | vT1hqVUu_FA |      business      |\n",
      "| 70 | uhdFcirGFD8 |      politics      |\n",
      "| 71 | aQ_cQ3Imd7U |      politics      |\n",
      "| 72 | UIAPM3SG_8Q |      business      |\n",
      "| 73 | X4N04RJpFpk |      politics      |\n",
      "| 74 | EeoT9-xp7tc |      politics      |\n",
      "| 75 | 9TTiYghN0Xo |      business      |\n",
      "| 76 | 64l_NVj6e10 |      business      |\n",
      "| 77 | lYbmCyhJhX8 |       sports       |\n",
      "| 78 | s_Lh-2nCCMw |      business      |\n",
      "| 79 | 64ivmhyyRSI |       health       |\n",
      "| 80 | 9AdixAJVTO0 |      business      |\n",
      "| 81 | mtptFuBAg9Q |   entertainment    |\n",
      "| 82 | 5F6YRQKZX9E |       sports       |\n",
      "| 83 | yNPM2obgE7g |   entertainment    |\n",
      "| 84 | CDphmhaToV4 |      business      |\n",
      "| 85 | LZ-px4nq8YQ |      business      |\n",
      "| 86 | 65CI8hznDy4 |      business      |\n",
      "| 87 | xTN1IcqZvOo |      politics      |\n",
      "| 88 | ei8wkDsxnaY |      business      |\n",
      "| 89 | y8Cg3LwIcZk |      business      |\n",
      "| 90 | eT9E4zRwuGY |      business      |\n",
      "| 91 | 4JrhaZrpKBc |      business      |\n",
      "| 92 | DGjSzIhmXRk |      business      |\n",
      "| 93 | BBvsr9_2TaU |       health       |\n",
      "| 94 | Ab-1ElJurBw |       sports       |\n",
      "| 95 | 2IXl4qJGrRk |      business      |\n",
      "| 96 | W47cFRJ2iI4 |      business      |\n",
      "| 97 | xxvKKR-haTE |      politics      |\n",
      "| 98 | fJzoicql6Yw |      politics      |\n",
      "| 99 | X_5IXAEebo4 |      business      |\n",
      "+----+-------------+--------------------+\n"
     ]
    }
   ],
   "source": [
    "print(tabulate(df[['video_id', 'predicted_category']][:100], headers='keys', tablefmt='pretty'))"
   ]
  },
  {
   "cell_type": "code",
   "execution_count": 57,
   "id": "8cb8a721",
   "metadata": {},
   "outputs": [
    {
     "name": "stdout",
     "output_type": "stream",
     "text": [
      "predicted_category\n",
      "business         22933\n",
      "health            7987\n",
      "politics          2957\n",
      "style              592\n",
      "travel             589\n",
      "sports             308\n",
      "entertainment       26\n",
      "Name: count, dtype: int64\n"
     ]
    }
   ],
   "source": [
    "prediction_counts = df['predicted_category'].value_counts()\n",
    "print(prediction_counts)\n"
   ]
  }
 ],
 "metadata": {
  "kernelspec": {
   "display_name": ".venv",
   "language": "python",
   "name": "python3"
  },
  "language_info": {
   "codemirror_mode": {
    "name": "ipython",
    "version": 3
   },
   "file_extension": ".py",
   "mimetype": "text/x-python",
   "name": "python",
   "nbconvert_exporter": "python",
   "pygments_lexer": "ipython3",
   "version": "3.12.2"
  }
 },
 "nbformat": 4,
 "nbformat_minor": 5
}
